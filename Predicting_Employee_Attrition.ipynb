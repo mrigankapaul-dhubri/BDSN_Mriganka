{
  "cells": [
    {
      "cell_type": "markdown",
      "metadata": {
        "id": "view-in-github",
        "colab_type": "text"
      },
      "source": [
        "<a href=\"https://colab.research.google.com/github/mrigankapaul-dhubri/BDSN_Mriganka/blob/main/Predicting_Employee_Attrition.ipynb\" target=\"_parent\"><img src=\"https://colab.research.google.com/assets/colab-badge.svg\" alt=\"Open In Colab\"/></a>"
      ]
    },
    {
      "cell_type": "markdown",
      "metadata": {
        "id": "Tv3ilyMb7DVt"
      },
      "source": [
        "# Setting up the environment and importing the libraries"
      ]
    },
    {
      "cell_type": "code",
      "execution_count": 1,
      "metadata": {
        "colab": {
          "base_uri": "https://localhost:8080/"
        },
        "id": "u5HsHOl-V5X_",
        "outputId": "34488b97-b674-4c17-c5e4-759378b536e1"
      },
      "outputs": [
        {
          "output_type": "stream",
          "name": "stdout",
          "text": [
            "\u001b[K     |████████████████████████████████| 281.4 MB 26 kB/s \n",
            "\u001b[K     |████████████████████████████████| 198 kB 30.3 MB/s \n",
            "\u001b[?25h  Building wheel for pyspark (setup.py) ... \u001b[?25l\u001b[?25hdone\n"
          ]
        }
      ],
      "source": [
        "!apt-get update > /dev/null\n",
        "!apt-get install openjdk-8-jdk-headless -qq > /dev/null\n",
        "!wget -q http://apache.osuosl.org/spark/spark-3.1.2/spark-3.1.2-bin-hadoop3.2.tgz\n",
        "!tar xf spark-3.1.2-bin-hadoop3.2.tgz\n",
        "!pip install -q pyspark\n"
      ]
    },
    {
      "cell_type": "code",
      "execution_count": 2,
      "metadata": {
        "id": "nXeKRTgPWE3k"
      },
      "outputs": [],
      "source": [
        "import os\n",
        "os.environ[\"JAVA_HOME\"] = \"/usr/lib/jvm/java-8-openjdk-amd64\"\n",
        "os.environ[\"SPARK_HOME\"] = \"/content/spark-3.1.2-bin-hadoop3.2\""
      ]
    },
    {
      "cell_type": "code",
      "execution_count": 3,
      "metadata": {
        "id": "6S8aO78DX1OT"
      },
      "outputs": [],
      "source": [
        "from pyspark.sql import SparkSession\n",
        "import pyspark.sql.functions as F\n",
        "import pyspark.sql.types as T\n",
        "\n",
        "\n",
        "from pyspark.ml.feature import StringIndexer, VectorAssembler, OneHotEncoder, StandardScaler\n",
        "from pyspark.ml.classification import GBTClassifier, LogisticRegression\n",
        "from pyspark.ml.evaluation import BinaryClassificationEvaluator\n",
        "from pyspark.ml.evaluation import MulticlassClassificationEvaluator"
      ]
    },
    {
      "cell_type": "code",
      "execution_count": 4,
      "metadata": {
        "colab": {
          "base_uri": "https://localhost:8080/",
          "height": 198
        },
        "id": "TYLExw8QYPnA",
        "outputId": "1cbb3d68-71ab-4c83-942b-efe45dcbbf6d"
      },
      "outputs": [
        {
          "output_type": "execute_result",
          "data": {
            "text/html": [
              "\n",
              "        <div>\n",
              "            <p><b>SparkContext</b></p>\n",
              "\n",
              "            <p><a href=\"http://ec995ad59297:4040\">Spark UI</a></p>\n",
              "\n",
              "            <dl>\n",
              "              <dt>Version</dt>\n",
              "                <dd><code>v3.1.2</code></dd>\n",
              "              <dt>Master</dt>\n",
              "                <dd><code>local[*]</code></dd>\n",
              "              <dt>AppName</dt>\n",
              "                <dd><code>pyspark-shell</code></dd>\n",
              "            </dl>\n",
              "        </div>\n",
              "        "
            ],
            "text/plain": [
              "<SparkContext master=local[*] appName=pyspark-shell>"
            ]
          },
          "metadata": {},
          "execution_count": 4
        }
      ],
      "source": [
        "from pyspark.sql import SparkSession\n",
        "spark = SparkSession.builder.master(\"local[*]\").getOrCreate()\n",
        "sc = spark.sparkContext\n",
        "sc"
      ]
    },
    {
      "cell_type": "code",
      "execution_count": 5,
      "metadata": {
        "colab": {
          "base_uri": "https://localhost:8080/",
          "height": 222
        },
        "id": "mXNabxFBhY3M",
        "outputId": "585fcfec-8272-482f-df9f-72b876a8b715"
      },
      "outputs": [
        {
          "output_type": "execute_result",
          "data": {
            "text/html": [
              "\n",
              "            <div>\n",
              "                <p><b>SparkSession - in-memory</b></p>\n",
              "                \n",
              "        <div>\n",
              "            <p><b>SparkContext</b></p>\n",
              "\n",
              "            <p><a href=\"http://ec995ad59297:4040\">Spark UI</a></p>\n",
              "\n",
              "            <dl>\n",
              "              <dt>Version</dt>\n",
              "                <dd><code>v3.1.2</code></dd>\n",
              "              <dt>Master</dt>\n",
              "                <dd><code>local[*]</code></dd>\n",
              "              <dt>AppName</dt>\n",
              "                <dd><code>pyspark-shell</code></dd>\n",
              "            </dl>\n",
              "        </div>\n",
              "        \n",
              "            </div>\n",
              "        "
            ],
            "text/plain": [
              "<pyspark.sql.session.SparkSession at 0x7fb2f666c490>"
            ]
          },
          "metadata": {},
          "execution_count": 5
        }
      ],
      "source": [
        "spark"
      ]
    },
    {
      "cell_type": "code",
      "execution_count": 6,
      "metadata": {
        "id": "_jpz_imRj2BA"
      },
      "outputs": [],
      "source": [
        "import pandas as pd\n",
        "import matplotlib.pyplot as plt\n",
        "import seaborn as sns\n"
      ]
    },
    {
      "cell_type": "code",
      "execution_count": 7,
      "metadata": {
        "id": "2pYeUl0AzTqc"
      },
      "outputs": [],
      "source": [
        "from pyspark.sql.functions import isnan, when, count, col\n",
        "from pyspark.sql.functions import udf\n",
        "from pyspark.sql.types import StringType\n",
        "from pyspark.mllib.stat import Statistics"
      ]
    },
    {
      "cell_type": "markdown",
      "metadata": {
        "id": "dgnCMu9unheq"
      },
      "source": [
        "# Uploading the file"
      ]
    },
    {
      "cell_type": "markdown",
      "metadata": {
        "id": "t_u_MSYbhlrN"
      },
      "source": [
        "Loading the csv file in the google colabenv using the below code"
      ]
    },
    {
      "cell_type": "code",
      "execution_count": 9,
      "metadata": {
        "colab": {
          "base_uri": "https://localhost:8080/",
          "height": 74,
          "resources": {
            "http://localhost:8080/nbextensions/google.colab/files.js": {
              "data": "Ly8gQ29weXJpZ2h0IDIwMTcgR29vZ2xlIExMQwovLwovLyBMaWNlbnNlZCB1bmRlciB0aGUgQXBhY2hlIExpY2Vuc2UsIFZlcnNpb24gMi4wICh0aGUgIkxpY2Vuc2UiKTsKLy8geW91IG1heSBub3QgdXNlIHRoaXMgZmlsZSBleGNlcHQgaW4gY29tcGxpYW5jZSB3aXRoIHRoZSBMaWNlbnNlLgovLyBZb3UgbWF5IG9idGFpbiBhIGNvcHkgb2YgdGhlIExpY2Vuc2UgYXQKLy8KLy8gICAgICBodHRwOi8vd3d3LmFwYWNoZS5vcmcvbGljZW5zZXMvTElDRU5TRS0yLjAKLy8KLy8gVW5sZXNzIHJlcXVpcmVkIGJ5IGFwcGxpY2FibGUgbGF3IG9yIGFncmVlZCB0byBpbiB3cml0aW5nLCBzb2Z0d2FyZQovLyBkaXN0cmlidXRlZCB1bmRlciB0aGUgTGljZW5zZSBpcyBkaXN0cmlidXRlZCBvbiBhbiAiQVMgSVMiIEJBU0lTLAovLyBXSVRIT1VUIFdBUlJBTlRJRVMgT1IgQ09ORElUSU9OUyBPRiBBTlkgS0lORCwgZWl0aGVyIGV4cHJlc3Mgb3IgaW1wbGllZC4KLy8gU2VlIHRoZSBMaWNlbnNlIGZvciB0aGUgc3BlY2lmaWMgbGFuZ3VhZ2UgZ292ZXJuaW5nIHBlcm1pc3Npb25zIGFuZAovLyBsaW1pdGF0aW9ucyB1bmRlciB0aGUgTGljZW5zZS4KCi8qKgogKiBAZmlsZW92ZXJ2aWV3IEhlbHBlcnMgZm9yIGdvb2dsZS5jb2xhYiBQeXRob24gbW9kdWxlLgogKi8KKGZ1bmN0aW9uKHNjb3BlKSB7CmZ1bmN0aW9uIHNwYW4odGV4dCwgc3R5bGVBdHRyaWJ1dGVzID0ge30pIHsKICBjb25zdCBlbGVtZW50ID0gZG9jdW1lbnQuY3JlYXRlRWxlbWVudCgnc3BhbicpOwogIGVsZW1lbnQudGV4dENvbnRlbnQgPSB0ZXh0OwogIGZvciAoY29uc3Qga2V5IG9mIE9iamVjdC5rZXlzKHN0eWxlQXR0cmlidXRlcykpIHsKICAgIGVsZW1lbnQuc3R5bGVba2V5XSA9IHN0eWxlQXR0cmlidXRlc1trZXldOwogIH0KICByZXR1cm4gZWxlbWVudDsKfQoKLy8gTWF4IG51bWJlciBvZiBieXRlcyB3aGljaCB3aWxsIGJlIHVwbG9hZGVkIGF0IGEgdGltZS4KY29uc3QgTUFYX1BBWUxPQURfU0laRSA9IDEwMCAqIDEwMjQ7CgpmdW5jdGlvbiBfdXBsb2FkRmlsZXMoaW5wdXRJZCwgb3V0cHV0SWQpIHsKICBjb25zdCBzdGVwcyA9IHVwbG9hZEZpbGVzU3RlcChpbnB1dElkLCBvdXRwdXRJZCk7CiAgY29uc3Qgb3V0cHV0RWxlbWVudCA9IGRvY3VtZW50LmdldEVsZW1lbnRCeUlkKG91dHB1dElkKTsKICAvLyBDYWNoZSBzdGVwcyBvbiB0aGUgb3V0cHV0RWxlbWVudCB0byBtYWtlIGl0IGF2YWlsYWJsZSBmb3IgdGhlIG5leHQgY2FsbAogIC8vIHRvIHVwbG9hZEZpbGVzQ29udGludWUgZnJvbSBQeXRob24uCiAgb3V0cHV0RWxlbWVudC5zdGVwcyA9IHN0ZXBzOwoKICByZXR1cm4gX3VwbG9hZEZpbGVzQ29udGludWUob3V0cHV0SWQpOwp9CgovLyBUaGlzIGlzIHJvdWdobHkgYW4gYXN5bmMgZ2VuZXJhdG9yIChub3Qgc3VwcG9ydGVkIGluIHRoZSBicm93c2VyIHlldCksCi8vIHdoZXJlIHRoZXJlIGFyZSBtdWx0aXBsZSBhc3luY2hyb25vdXMgc3RlcHMgYW5kIHRoZSBQeXRob24gc2lkZSBpcyBnb2luZwovLyB0byBwb2xsIGZvciBjb21wbGV0aW9uIG9mIGVhY2ggc3RlcC4KLy8gVGhpcyB1c2VzIGEgUHJvbWlzZSB0byBibG9jayB0aGUgcHl0aG9uIHNpZGUgb24gY29tcGxldGlvbiBvZiBlYWNoIHN0ZXAsCi8vIHRoZW4gcGFzc2VzIHRoZSByZXN1bHQgb2YgdGhlIHByZXZpb3VzIHN0ZXAgYXMgdGhlIGlucHV0IHRvIHRoZSBuZXh0IHN0ZXAuCmZ1bmN0aW9uIF91cGxvYWRGaWxlc0NvbnRpbnVlKG91dHB1dElkKSB7CiAgY29uc3Qgb3V0cHV0RWxlbWVudCA9IGRvY3VtZW50LmdldEVsZW1lbnRCeUlkKG91dHB1dElkKTsKICBjb25zdCBzdGVwcyA9IG91dHB1dEVsZW1lbnQuc3RlcHM7CgogIGNvbnN0IG5leHQgPSBzdGVwcy5uZXh0KG91dHB1dEVsZW1lbnQubGFzdFByb21pc2VWYWx1ZSk7CiAgcmV0dXJuIFByb21pc2UucmVzb2x2ZShuZXh0LnZhbHVlLnByb21pc2UpLnRoZW4oKHZhbHVlKSA9PiB7CiAgICAvLyBDYWNoZSB0aGUgbGFzdCBwcm9taXNlIHZhbHVlIHRvIG1ha2UgaXQgYXZhaWxhYmxlIHRvIHRoZSBuZXh0CiAgICAvLyBzdGVwIG9mIHRoZSBnZW5lcmF0b3IuCiAgICBvdXRwdXRFbGVtZW50Lmxhc3RQcm9taXNlVmFsdWUgPSB2YWx1ZTsKICAgIHJldHVybiBuZXh0LnZhbHVlLnJlc3BvbnNlOwogIH0pOwp9CgovKioKICogR2VuZXJhdG9yIGZ1bmN0aW9uIHdoaWNoIGlzIGNhbGxlZCBiZXR3ZWVuIGVhY2ggYXN5bmMgc3RlcCBvZiB0aGUgdXBsb2FkCiAqIHByb2Nlc3MuCiAqIEBwYXJhbSB7c3RyaW5nfSBpbnB1dElkIEVsZW1lbnQgSUQgb2YgdGhlIGlucHV0IGZpbGUgcGlja2VyIGVsZW1lbnQuCiAqIEBwYXJhbSB7c3RyaW5nfSBvdXRwdXRJZCBFbGVtZW50IElEIG9mIHRoZSBvdXRwdXQgZGlzcGxheS4KICogQHJldHVybiB7IUl0ZXJhYmxlPCFPYmplY3Q+fSBJdGVyYWJsZSBvZiBuZXh0IHN0ZXBzLgogKi8KZnVuY3Rpb24qIHVwbG9hZEZpbGVzU3RlcChpbnB1dElkLCBvdXRwdXRJZCkgewogIGNvbnN0IGlucHV0RWxlbWVudCA9IGRvY3VtZW50LmdldEVsZW1lbnRCeUlkKGlucHV0SWQpOwogIGlucHV0RWxlbWVudC5kaXNhYmxlZCA9IGZhbHNlOwoKICBjb25zdCBvdXRwdXRFbGVtZW50ID0gZG9jdW1lbnQuZ2V0RWxlbWVudEJ5SWQob3V0cHV0SWQpOwogIG91dHB1dEVsZW1lbnQuaW5uZXJIVE1MID0gJyc7CgogIGNvbnN0IHBpY2tlZFByb21pc2UgPSBuZXcgUHJvbWlzZSgocmVzb2x2ZSkgPT4gewogICAgaW5wdXRFbGVtZW50LmFkZEV2ZW50TGlzdGVuZXIoJ2NoYW5nZScsIChlKSA9PiB7CiAgICAgIHJlc29sdmUoZS50YXJnZXQuZmlsZXMpOwogICAgfSk7CiAgfSk7CgogIGNvbnN0IGNhbmNlbCA9IGRvY3VtZW50LmNyZWF0ZUVsZW1lbnQoJ2J1dHRvbicpOwogIGlucHV0RWxlbWVudC5wYXJlbnRFbGVtZW50LmFwcGVuZENoaWxkKGNhbmNlbCk7CiAgY2FuY2VsLnRleHRDb250ZW50ID0gJ0NhbmNlbCB1cGxvYWQnOwogIGNvbnN0IGNhbmNlbFByb21pc2UgPSBuZXcgUHJvbWlzZSgocmVzb2x2ZSkgPT4gewogICAgY2FuY2VsLm9uY2xpY2sgPSAoKSA9PiB7CiAgICAgIHJlc29sdmUobnVsbCk7CiAgICB9OwogIH0pOwoKICAvLyBXYWl0IGZvciB0aGUgdXNlciB0byBwaWNrIHRoZSBmaWxlcy4KICBjb25zdCBmaWxlcyA9IHlpZWxkIHsKICAgIHByb21pc2U6IFByb21pc2UucmFjZShbcGlja2VkUHJvbWlzZSwgY2FuY2VsUHJvbWlzZV0pLAogICAgcmVzcG9uc2U6IHsKICAgICAgYWN0aW9uOiAnc3RhcnRpbmcnLAogICAgfQogIH07CgogIGNhbmNlbC5yZW1vdmUoKTsKCiAgLy8gRGlzYWJsZSB0aGUgaW5wdXQgZWxlbWVudCBzaW5jZSBmdXJ0aGVyIHBpY2tzIGFyZSBub3QgYWxsb3dlZC4KICBpbnB1dEVsZW1lbnQuZGlzYWJsZWQgPSB0cnVlOwoKICBpZiAoIWZpbGVzKSB7CiAgICByZXR1cm4gewogICAgICByZXNwb25zZTogewogICAgICAgIGFjdGlvbjogJ2NvbXBsZXRlJywKICAgICAgfQogICAgfTsKICB9CgogIGZvciAoY29uc3QgZmlsZSBvZiBmaWxlcykgewogICAgY29uc3QgbGkgPSBkb2N1bWVudC5jcmVhdGVFbGVtZW50KCdsaScpOwogICAgbGkuYXBwZW5kKHNwYW4oZmlsZS5uYW1lLCB7Zm9udFdlaWdodDogJ2JvbGQnfSkpOwogICAgbGkuYXBwZW5kKHNwYW4oCiAgICAgICAgYCgke2ZpbGUudHlwZSB8fCAnbi9hJ30pIC0gJHtmaWxlLnNpemV9IGJ5dGVzLCBgICsKICAgICAgICBgbGFzdCBtb2RpZmllZDogJHsKICAgICAgICAgICAgZmlsZS5sYXN0TW9kaWZpZWREYXRlID8gZmlsZS5sYXN0TW9kaWZpZWREYXRlLnRvTG9jYWxlRGF0ZVN0cmluZygpIDoKICAgICAgICAgICAgICAgICAgICAgICAgICAgICAgICAgICAgJ24vYSd9IC0gYCkpOwogICAgY29uc3QgcGVyY2VudCA9IHNwYW4oJzAlIGRvbmUnKTsKICAgIGxpLmFwcGVuZENoaWxkKHBlcmNlbnQpOwoKICAgIG91dHB1dEVsZW1lbnQuYXBwZW5kQ2hpbGQobGkpOwoKICAgIGNvbnN0IGZpbGVEYXRhUHJvbWlzZSA9IG5ldyBQcm9taXNlKChyZXNvbHZlKSA9PiB7CiAgICAgIGNvbnN0IHJlYWRlciA9IG5ldyBGaWxlUmVhZGVyKCk7CiAgICAgIHJlYWRlci5vbmxvYWQgPSAoZSkgPT4gewogICAgICAgIHJlc29sdmUoZS50YXJnZXQucmVzdWx0KTsKICAgICAgfTsKICAgICAgcmVhZGVyLnJlYWRBc0FycmF5QnVmZmVyKGZpbGUpOwogICAgfSk7CiAgICAvLyBXYWl0IGZvciB0aGUgZGF0YSB0byBiZSByZWFkeS4KICAgIGxldCBmaWxlRGF0YSA9IHlpZWxkIHsKICAgICAgcHJvbWlzZTogZmlsZURhdGFQcm9taXNlLAogICAgICByZXNwb25zZTogewogICAgICAgIGFjdGlvbjogJ2NvbnRpbnVlJywKICAgICAgfQogICAgfTsKCiAgICAvLyBVc2UgYSBjaHVua2VkIHNlbmRpbmcgdG8gYXZvaWQgbWVzc2FnZSBzaXplIGxpbWl0cy4gU2VlIGIvNjIxMTU2NjAuCiAgICBsZXQgcG9zaXRpb24gPSAwOwogICAgZG8gewogICAgICBjb25zdCBsZW5ndGggPSBNYXRoLm1pbihmaWxlRGF0YS5ieXRlTGVuZ3RoIC0gcG9zaXRpb24sIE1BWF9QQVlMT0FEX1NJWkUpOwogICAgICBjb25zdCBjaHVuayA9IG5ldyBVaW50OEFycmF5KGZpbGVEYXRhLCBwb3NpdGlvbiwgbGVuZ3RoKTsKICAgICAgcG9zaXRpb24gKz0gbGVuZ3RoOwoKICAgICAgY29uc3QgYmFzZTY0ID0gYnRvYShTdHJpbmcuZnJvbUNoYXJDb2RlLmFwcGx5KG51bGwsIGNodW5rKSk7CiAgICAgIHlpZWxkIHsKICAgICAgICByZXNwb25zZTogewogICAgICAgICAgYWN0aW9uOiAnYXBwZW5kJywKICAgICAgICAgIGZpbGU6IGZpbGUubmFtZSwKICAgICAgICAgIGRhdGE6IGJhc2U2NCwKICAgICAgICB9LAogICAgICB9OwoKICAgICAgbGV0IHBlcmNlbnREb25lID0gZmlsZURhdGEuYnl0ZUxlbmd0aCA9PT0gMCA/CiAgICAgICAgICAxMDAgOgogICAgICAgICAgTWF0aC5yb3VuZCgocG9zaXRpb24gLyBmaWxlRGF0YS5ieXRlTGVuZ3RoKSAqIDEwMCk7CiAgICAgIHBlcmNlbnQudGV4dENvbnRlbnQgPSBgJHtwZXJjZW50RG9uZX0lIGRvbmVgOwoKICAgIH0gd2hpbGUgKHBvc2l0aW9uIDwgZmlsZURhdGEuYnl0ZUxlbmd0aCk7CiAgfQoKICAvLyBBbGwgZG9uZS4KICB5aWVsZCB7CiAgICByZXNwb25zZTogewogICAgICBhY3Rpb246ICdjb21wbGV0ZScsCiAgICB9CiAgfTsKfQoKc2NvcGUuZ29vZ2xlID0gc2NvcGUuZ29vZ2xlIHx8IHt9OwpzY29wZS5nb29nbGUuY29sYWIgPSBzY29wZS5nb29nbGUuY29sYWIgfHwge307CnNjb3BlLmdvb2dsZS5jb2xhYi5fZmlsZXMgPSB7CiAgX3VwbG9hZEZpbGVzLAogIF91cGxvYWRGaWxlc0NvbnRpbnVlLAp9Owp9KShzZWxmKTsK",
              "headers": [
                [
                  "content-type",
                  "application/javascript"
                ]
              ],
              "ok": true,
              "status": 200,
              "status_text": ""
            }
          }
        },
        "id": "mnkGBtmXYf_j",
        "outputId": "9ba122aa-2393-4ff7-d8cb-42f5bd2f4782"
      },
      "outputs": [
        {
          "output_type": "display_data",
          "data": {
            "text/html": [
              "\n",
              "     <input type=\"file\" id=\"files-f94cbb90-8682-4aa1-bec8-f8e6f852247e\" name=\"files[]\" multiple disabled\n",
              "        style=\"border:none\" />\n",
              "     <output id=\"result-f94cbb90-8682-4aa1-bec8-f8e6f852247e\">\n",
              "      Upload widget is only available when the cell has been executed in the\n",
              "      current browser session. Please rerun this cell to enable.\n",
              "      </output>\n",
              "      <script src=\"/nbextensions/google.colab/files.js\"></script> "
            ],
            "text/plain": [
              "<IPython.core.display.HTML object>"
            ]
          },
          "metadata": {}
        },
        {
          "output_type": "stream",
          "name": "stdout",
          "text": [
            "Saving HR_comma_sep.csv to HR_comma_sep.csv\n"
          ]
        }
      ],
      "source": [
        "from google.colab import files\n",
        "uploaded = files.upload()"
      ]
    },
    {
      "cell_type": "markdown",
      "metadata": {
        "id": "xh9tSPuoiAg5"
      },
      "source": [
        "Reading the csv file below"
      ]
    },
    {
      "cell_type": "code",
      "execution_count": 10,
      "metadata": {
        "id": "4WZ5b0RPaBzz"
      },
      "outputs": [],
      "source": [
        "df = spark.read.csv(\"HR_comma_sep.csv\",inferSchema = True, header = True)"
      ]
    },
    {
      "cell_type": "markdown",
      "metadata": {
        "id": "J8socDA767EP"
      },
      "source": [
        "# Exploratory Data Analysis"
      ]
    },
    {
      "cell_type": "markdown",
      "metadata": {
        "id": "_7uJPFlNiK9F"
      },
      "source": [
        "Reading the features and its data types."
      ]
    },
    {
      "cell_type": "code",
      "execution_count": 11,
      "metadata": {
        "id": "kA0l9pUbajqV",
        "colab": {
          "base_uri": "https://localhost:8080/"
        },
        "outputId": "10a91046-2e6f-4d5b-de0b-db5853d25442"
      },
      "outputs": [
        {
          "output_type": "stream",
          "name": "stdout",
          "text": [
            "root\n",
            " |-- satisfaction_level: double (nullable = true)\n",
            " |-- last_evaluation: double (nullable = true)\n",
            " |-- number_project: integer (nullable = true)\n",
            " |-- average_montly_hours: integer (nullable = true)\n",
            " |-- time_spend_company: integer (nullable = true)\n",
            " |-- Work_accident: integer (nullable = true)\n",
            " |-- left: integer (nullable = true)\n",
            " |-- promotion_last_5years: integer (nullable = true)\n",
            " |-- department: string (nullable = true)\n",
            " |-- salary: string (nullable = true)\n",
            "\n"
          ]
        }
      ],
      "source": [
        "df.printSchema()"
      ]
    },
    {
      "cell_type": "markdown",
      "metadata": {
        "id": "b5P1cQxTjbI9"
      },
      "source": [
        "Reading the first 2 records of the data"
      ]
    },
    {
      "cell_type": "code",
      "execution_count": 12,
      "metadata": {
        "id": "GFea9pqka7XN",
        "colab": {
          "base_uri": "https://localhost:8080/"
        },
        "outputId": "4a5026f7-3144-42b2-fc06-51fb4cd71019"
      },
      "outputs": [
        {
          "output_type": "stream",
          "name": "stdout",
          "text": [
            "+------------------+---------------+--------------+--------------------+------------------+-------------+----+---------------------+----------+------+\n",
            "|satisfaction_level|last_evaluation|number_project|average_montly_hours|time_spend_company|Work_accident|left|promotion_last_5years|department|salary|\n",
            "+------------------+---------------+--------------+--------------------+------------------+-------------+----+---------------------+----------+------+\n",
            "|              0.38|           0.53|             2|                 157|                 3|            0|   1|                    0|     sales|   low|\n",
            "|               0.8|           0.86|             5|                 262|                 6|            0|   1|                    0|     sales|medium|\n",
            "+------------------+---------------+--------------+--------------------+------------------+-------------+----+---------------------+----------+------+\n",
            "only showing top 2 rows\n",
            "\n"
          ]
        }
      ],
      "source": [
        "df.show(2)"
      ]
    },
    {
      "cell_type": "markdown",
      "metadata": {
        "id": "GL_yg47k4qf2"
      },
      "source": [
        "Checking the count of records and features"
      ]
    },
    {
      "cell_type": "code",
      "execution_count": 13,
      "metadata": {
        "id": "2gpqzrgp36Gh",
        "colab": {
          "base_uri": "https://localhost:8080/"
        },
        "outputId": "6c6fcee1-6c7e-4c3f-9131-c42c1cfa49f3"
      },
      "outputs": [
        {
          "output_type": "stream",
          "name": "stdout",
          "text": [
            "(14999, 10)\n"
          ]
        }
      ],
      "source": [
        "print((df.count(), len(df.columns)))"
      ]
    },
    {
      "cell_type": "markdown",
      "metadata": {
        "id": "WyY55k18oTQA"
      },
      "source": [
        "Checking the count, mean, standard deviation, min and max of double or integer features and for the features with string datatype we can see the count, min and max "
      ]
    },
    {
      "cell_type": "code",
      "execution_count": 14,
      "metadata": {
        "id": "39BrBwEha-TJ",
        "colab": {
          "base_uri": "https://localhost:8080/",
          "height": 206
        },
        "outputId": "e8965cba-ccd8-44c9-8af7-0085919cc778"
      },
      "outputs": [
        {
          "output_type": "execute_result",
          "data": {
            "text/html": [
              "\n",
              "  <div id=\"df-e6fe0162-6196-4d1b-be5e-3dbf232de3e5\">\n",
              "    <div class=\"colab-df-container\">\n",
              "      <div>\n",
              "<style scoped>\n",
              "    .dataframe tbody tr th:only-of-type {\n",
              "        vertical-align: middle;\n",
              "    }\n",
              "\n",
              "    .dataframe tbody tr th {\n",
              "        vertical-align: top;\n",
              "    }\n",
              "\n",
              "    .dataframe thead th {\n",
              "        text-align: right;\n",
              "    }\n",
              "</style>\n",
              "<table border=\"1\" class=\"dataframe\">\n",
              "  <thead>\n",
              "    <tr style=\"text-align: right;\">\n",
              "      <th></th>\n",
              "      <th>summary</th>\n",
              "      <th>satisfaction_level</th>\n",
              "      <th>last_evaluation</th>\n",
              "      <th>number_project</th>\n",
              "      <th>average_montly_hours</th>\n",
              "      <th>time_spend_company</th>\n",
              "      <th>Work_accident</th>\n",
              "      <th>left</th>\n",
              "      <th>promotion_last_5years</th>\n",
              "      <th>department</th>\n",
              "      <th>salary</th>\n",
              "    </tr>\n",
              "  </thead>\n",
              "  <tbody>\n",
              "    <tr>\n",
              "      <th>0</th>\n",
              "      <td>count</td>\n",
              "      <td>14999</td>\n",
              "      <td>14999</td>\n",
              "      <td>14999</td>\n",
              "      <td>14999</td>\n",
              "      <td>14999</td>\n",
              "      <td>14999</td>\n",
              "      <td>14999</td>\n",
              "      <td>14999</td>\n",
              "      <td>14999</td>\n",
              "      <td>14999</td>\n",
              "    </tr>\n",
              "    <tr>\n",
              "      <th>1</th>\n",
              "      <td>mean</td>\n",
              "      <td>0.6128335222348166</td>\n",
              "      <td>0.7161017401159978</td>\n",
              "      <td>3.80305353690246</td>\n",
              "      <td>201.0503366891126</td>\n",
              "      <td>3.498233215547703</td>\n",
              "      <td>0.1446096406427095</td>\n",
              "      <td>0.2380825388359224</td>\n",
              "      <td>0.021268084538969265</td>\n",
              "      <td>None</td>\n",
              "      <td>None</td>\n",
              "    </tr>\n",
              "    <tr>\n",
              "      <th>2</th>\n",
              "      <td>stddev</td>\n",
              "      <td>0.24863065106114257</td>\n",
              "      <td>0.17116911062327556</td>\n",
              "      <td>1.2325923553183513</td>\n",
              "      <td>49.94309937128406</td>\n",
              "      <td>1.4601362305354808</td>\n",
              "      <td>0.35171855238017957</td>\n",
              "      <td>0.42592409938029885</td>\n",
              "      <td>0.1442814645785825</td>\n",
              "      <td>None</td>\n",
              "      <td>None</td>\n",
              "    </tr>\n",
              "    <tr>\n",
              "      <th>3</th>\n",
              "      <td>min</td>\n",
              "      <td>0.09</td>\n",
              "      <td>0.36</td>\n",
              "      <td>2</td>\n",
              "      <td>96</td>\n",
              "      <td>2</td>\n",
              "      <td>0</td>\n",
              "      <td>0</td>\n",
              "      <td>0</td>\n",
              "      <td>IT</td>\n",
              "      <td>high</td>\n",
              "    </tr>\n",
              "    <tr>\n",
              "      <th>4</th>\n",
              "      <td>max</td>\n",
              "      <td>1.0</td>\n",
              "      <td>1.0</td>\n",
              "      <td>7</td>\n",
              "      <td>310</td>\n",
              "      <td>10</td>\n",
              "      <td>1</td>\n",
              "      <td>1</td>\n",
              "      <td>1</td>\n",
              "      <td>technical</td>\n",
              "      <td>medium</td>\n",
              "    </tr>\n",
              "  </tbody>\n",
              "</table>\n",
              "</div>\n",
              "      <button class=\"colab-df-convert\" onclick=\"convertToInteractive('df-e6fe0162-6196-4d1b-be5e-3dbf232de3e5')\"\n",
              "              title=\"Convert this dataframe to an interactive table.\"\n",
              "              style=\"display:none;\">\n",
              "        \n",
              "  <svg xmlns=\"http://www.w3.org/2000/svg\" height=\"24px\"viewBox=\"0 0 24 24\"\n",
              "       width=\"24px\">\n",
              "    <path d=\"M0 0h24v24H0V0z\" fill=\"none\"/>\n",
              "    <path d=\"M18.56 5.44l.94 2.06.94-2.06 2.06-.94-2.06-.94-.94-2.06-.94 2.06-2.06.94zm-11 1L8.5 8.5l.94-2.06 2.06-.94-2.06-.94L8.5 2.5l-.94 2.06-2.06.94zm10 10l.94 2.06.94-2.06 2.06-.94-2.06-.94-.94-2.06-.94 2.06-2.06.94z\"/><path d=\"M17.41 7.96l-1.37-1.37c-.4-.4-.92-.59-1.43-.59-.52 0-1.04.2-1.43.59L10.3 9.45l-7.72 7.72c-.78.78-.78 2.05 0 2.83L4 21.41c.39.39.9.59 1.41.59.51 0 1.02-.2 1.41-.59l7.78-7.78 2.81-2.81c.8-.78.8-2.07 0-2.86zM5.41 20L4 18.59l7.72-7.72 1.47 1.35L5.41 20z\"/>\n",
              "  </svg>\n",
              "      </button>\n",
              "      \n",
              "  <style>\n",
              "    .colab-df-container {\n",
              "      display:flex;\n",
              "      flex-wrap:wrap;\n",
              "      gap: 12px;\n",
              "    }\n",
              "\n",
              "    .colab-df-convert {\n",
              "      background-color: #E8F0FE;\n",
              "      border: none;\n",
              "      border-radius: 50%;\n",
              "      cursor: pointer;\n",
              "      display: none;\n",
              "      fill: #1967D2;\n",
              "      height: 32px;\n",
              "      padding: 0 0 0 0;\n",
              "      width: 32px;\n",
              "    }\n",
              "\n",
              "    .colab-df-convert:hover {\n",
              "      background-color: #E2EBFA;\n",
              "      box-shadow: 0px 1px 2px rgba(60, 64, 67, 0.3), 0px 1px 3px 1px rgba(60, 64, 67, 0.15);\n",
              "      fill: #174EA6;\n",
              "    }\n",
              "\n",
              "    [theme=dark] .colab-df-convert {\n",
              "      background-color: #3B4455;\n",
              "      fill: #D2E3FC;\n",
              "    }\n",
              "\n",
              "    [theme=dark] .colab-df-convert:hover {\n",
              "      background-color: #434B5C;\n",
              "      box-shadow: 0px 1px 3px 1px rgba(0, 0, 0, 0.15);\n",
              "      filter: drop-shadow(0px 1px 2px rgba(0, 0, 0, 0.3));\n",
              "      fill: #FFFFFF;\n",
              "    }\n",
              "  </style>\n",
              "\n",
              "      <script>\n",
              "        const buttonEl =\n",
              "          document.querySelector('#df-e6fe0162-6196-4d1b-be5e-3dbf232de3e5 button.colab-df-convert');\n",
              "        buttonEl.style.display =\n",
              "          google.colab.kernel.accessAllowed ? 'block' : 'none';\n",
              "\n",
              "        async function convertToInteractive(key) {\n",
              "          const element = document.querySelector('#df-e6fe0162-6196-4d1b-be5e-3dbf232de3e5');\n",
              "          const dataTable =\n",
              "            await google.colab.kernel.invokeFunction('convertToInteractive',\n",
              "                                                     [key], {});\n",
              "          if (!dataTable) return;\n",
              "\n",
              "          const docLinkHtml = 'Like what you see? Visit the ' +\n",
              "            '<a target=\"_blank\" href=https://colab.research.google.com/notebooks/data_table.ipynb>data table notebook</a>'\n",
              "            + ' to learn more about interactive tables.';\n",
              "          element.innerHTML = '';\n",
              "          dataTable['output_type'] = 'display_data';\n",
              "          await google.colab.output.renderOutput(dataTable, element);\n",
              "          const docLink = document.createElement('div');\n",
              "          docLink.innerHTML = docLinkHtml;\n",
              "          element.appendChild(docLink);\n",
              "        }\n",
              "      </script>\n",
              "    </div>\n",
              "  </div>\n",
              "  "
            ],
            "text/plain": [
              "  summary   satisfaction_level      last_evaluation      number_project  \\\n",
              "0   count                14999                14999               14999   \n",
              "1    mean   0.6128335222348166   0.7161017401159978    3.80305353690246   \n",
              "2  stddev  0.24863065106114257  0.17116911062327556  1.2325923553183513   \n",
              "3     min                 0.09                 0.36                   2   \n",
              "4     max                  1.0                  1.0                   7   \n",
              "\n",
              "  average_montly_hours  time_spend_company        Work_accident  \\\n",
              "0                14999               14999                14999   \n",
              "1    201.0503366891126   3.498233215547703   0.1446096406427095   \n",
              "2    49.94309937128406  1.4601362305354808  0.35171855238017957   \n",
              "3                   96                   2                    0   \n",
              "4                  310                  10                    1   \n",
              "\n",
              "                  left promotion_last_5years department  salary  \n",
              "0                14999                 14999      14999   14999  \n",
              "1   0.2380825388359224  0.021268084538969265       None    None  \n",
              "2  0.42592409938029885    0.1442814645785825       None    None  \n",
              "3                    0                     0         IT    high  \n",
              "4                    1                     1  technical  medium  "
            ]
          },
          "metadata": {},
          "execution_count": 14
        }
      ],
      "source": [
        "df.describe().toPandas()"
      ]
    },
    {
      "cell_type": "markdown",
      "metadata": {
        "id": "630fJ16X2FZk"
      },
      "source": [
        "Checking the distribution of the numeric features whose datatypes are \"double\" or \"integer\""
      ]
    },
    {
      "cell_type": "code",
      "execution_count": 15,
      "metadata": {
        "id": "sKBDi5IHsIB1",
        "colab": {
          "base_uri": "https://localhost:8080/",
          "height": 692
        },
        "outputId": "18b5aa9a-bb50-49de-993a-60d84151b248"
      },
      "outputs": [
        {
          "output_type": "display_data",
          "data": {
            "image/png": "[encoded data removed]",
            "text/plain": [
              "<Figure size 1800x1080 with 8 Axes>"
            ]
          },
          "metadata": {
            "needs_background": "light"
          }
        }
      ],
      "source": [
        "fig = plt.figure(figsize=(25, 15))\n",
        "st = fig.suptitle(\"Distribution of Numeric Features\", fontsize=50, verticalalignment=\"center\")\n",
        "for col, num in zip(df.toPandas().describe().columns, range(1,11)):\n",
        "  ax = fig.add_subplot(3,4, num)\n",
        "  ax.hist(df.toPandas()[col])\n",
        "  plt.grid(False)\n",
        "  plt.xticks(rotation=45, fontsize=20)\n",
        "  plt.yticks(fontsize=15)\n",
        "  plt.title(col.upper(), fontsize=20)\n",
        "\n",
        "plt.tight_layout()\n",
        "st.set_y(0.95)\n",
        "fig.subplots_adjust(top=0.85, hspace=0.4)\n",
        "plt.show()"
      ]
    },
    {
      "cell_type": "markdown",
      "metadata": {
        "id": "3UqQ6vi7orOL"
      },
      "source": [
        "Checking the number of employees for each department as per the data"
      ]
    },
    {
      "cell_type": "code",
      "execution_count": 16,
      "metadata": {
        "id": "W9s1d-J4kGK-",
        "colab": {
          "base_uri": "https://localhost:8080/"
        },
        "outputId": "9f1b60d9-b95e-4e78-8ad7-6d8935ef27bc"
      },
      "outputs": [
        {
          "output_type": "stream",
          "name": "stdout",
          "text": [
            "+-----------+-----+\n",
            "| department|count|\n",
            "+-----------+-----+\n",
            "| management|  630|\n",
            "|product_mng|  902|\n",
            "|  marketing|  858|\n",
            "|      sales| 4140|\n",
            "|         hr|  739|\n",
            "| accounting|  767|\n",
            "|    support| 2229|\n",
            "|         IT| 1227|\n",
            "|  technical| 2720|\n",
            "|      RandD|  787|\n",
            "+-----------+-----+\n",
            "\n"
          ]
        }
      ],
      "source": [
        "df.groupby('department').count().show()"
      ]
    },
    {
      "cell_type": "code",
      "execution_count": 19,
      "metadata": {
        "id": "xnFyE9iKeMy7",
        "colab": {
          "base_uri": "https://localhost:8080/",
          "height": 484
        },
        "outputId": "06077fa6-a6da-432d-c503-6ea5bbfc0ac9"
      },
      "outputs": [
        {
          "output_type": "display_data",
          "data": {
            "image/png": "[encoded data removed]",
            "text/plain": [
              "<Figure size 864x432 with 1 Axes>"
            ]
          },
          "metadata": {
            "needs_background": "light"
          }
        }
      ],
      "source": [
        "tmp = df.toPandas()\n",
        "\n",
        "fig, ax =plt.subplots(1,1,figsize=(12,6))\n",
        "plt.subplots_adjust(hspace = 0.4, top = 1.0)\n",
        "\n",
        "s0 = sns.countplot(x=\"department\", data=tmp)\n",
        "s0.set_xticklabels(s0.get_xticklabels(),rotation=45)\n",
        "\n",
        "plt.show()"
      ]
    },
    {
      "cell_type": "markdown",
      "metadata": {
        "id": "sSoAOibJoyPm"
      },
      "source": [
        "Checking the types of salary and the number of employees fallinf into that group"
      ]
    },
    {
      "cell_type": "code",
      "execution_count": 20,
      "metadata": {
        "colab": {
          "base_uri": "https://localhost:8080/"
        },
        "id": "HncQFui1lVvU",
        "outputId": "08af4518-a1cc-4148-f700-f98e485cdfbd"
      },
      "outputs": [
        {
          "output_type": "stream",
          "name": "stdout",
          "text": [
            "+------+-----+\n",
            "|salary|count|\n",
            "+------+-----+\n",
            "|   low| 7316|\n",
            "|  high| 1237|\n",
            "|medium| 6446|\n",
            "+------+-----+\n",
            "\n"
          ]
        }
      ],
      "source": [
        "df.groupby('salary').count().show()"
      ]
    },
    {
      "cell_type": "code",
      "execution_count": 21,
      "metadata": {
        "id": "ebC95W7pew2m",
        "colab": {
          "base_uri": "https://localhost:8080/",
          "height": 466
        },
        "outputId": "3f09c329-cdc4-4ed6-b3fa-d13c0c106d14"
      },
      "outputs": [
        {
          "output_type": "display_data",
          "data": {
            "image/png": "[encoded data removed]",
            "text/plain": [
              "<Figure size 720x432 with 1 Axes>"
            ]
          },
          "metadata": {
            "needs_background": "light"
          }
        }
      ],
      "source": [
        "tmp = df.toPandas()\n",
        "\n",
        "fig, ax =plt.subplots(1,1,figsize=(10,6))\n",
        "plt.subplots_adjust(hspace = 0.4, top = 1.0)\n",
        "\n",
        "s0 = sns.countplot(x=\"salary\", data=tmp)\n",
        "s0.set_xticklabels(s0.get_xticklabels(),rotation=45)\n",
        "\n",
        "plt.show()"
      ]
    },
    {
      "cell_type": "markdown",
      "metadata": {
        "id": "LfqOa0imo8w0"
      },
      "source": [
        "Checking the count of employees who left the organisation and employees who are still in the organisation.\n",
        "\"0\" means didnot leave\n",
        "\"1\" means left the organisation"
      ]
    },
    {
      "cell_type": "code",
      "execution_count": 22,
      "metadata": {
        "colab": {
          "base_uri": "https://localhost:8080/"
        },
        "id": "A4E4tdAjniyS",
        "outputId": "799173e9-7170-4a3f-ec73-353461917d7d"
      },
      "outputs": [
        {
          "output_type": "stream",
          "name": "stdout",
          "text": [
            "+----+-----+\n",
            "|left|count|\n",
            "+----+-----+\n",
            "|   1| 3571|\n",
            "|   0|11428|\n",
            "+----+-----+\n",
            "\n"
          ]
        }
      ],
      "source": [
        "df.groupby('left').count().show()"
      ]
    },
    {
      "cell_type": "markdown",
      "metadata": {
        "id": "rhJN5_a01Apx"
      },
      "source": [
        "Changing the values values of left column from \"0\" to \"no\" and \"1\" to \"yes\""
      ]
    },
    {
      "cell_type": "code",
      "execution_count": 23,
      "metadata": {
        "id": "Q1IHXqS-zWgx"
      },
      "outputs": [],
      "source": [
        "y_udf = udf(lambda y: \"no\" if y == 0 else \"yes\", StringType())\n",
        "df = df.withColumn(\"left\",y_udf('left'))"
      ]
    },
    {
      "cell_type": "code",
      "execution_count": 24,
      "metadata": {
        "colab": {
          "base_uri": "https://localhost:8080/"
        },
        "id": "WmDHC0e-1gyo",
        "outputId": "f7b3fe5b-0c56-4d90-a422-80d1ecb28636"
      },
      "outputs": [
        {
          "output_type": "stream",
          "name": "stdout",
          "text": [
            "+----+-----+\n",
            "|left|count|\n",
            "+----+-----+\n",
            "|  no|11428|\n",
            "| yes| 3571|\n",
            "+----+-----+\n",
            "\n"
          ]
        }
      ],
      "source": [
        "df.groupby('left').count().show()"
      ]
    },
    {
      "cell_type": "code",
      "execution_count": 25,
      "metadata": {
        "colab": {
          "base_uri": "https://localhost:8080/",
          "height": 449
        },
        "id": "GkPfP7xpfQ0q",
        "outputId": "57d6dc8a-91e7-4017-f90a-a94112496444"
      },
      "outputs": [
        {
          "output_type": "display_data",
          "data": {
            "image/png": "[encoded data removed]",
            "text/plain": [
              "<Figure size 720x432 with 1 Axes>"
            ]
          },
          "metadata": {
            "needs_background": "light"
          }
        }
      ],
      "source": [
        "tmp = df.toPandas()\n",
        "\n",
        "fig, ax =plt.subplots(1,1,figsize=(10,6))\n",
        "plt.subplots_adjust(hspace = 0.4, top = 1.0)\n",
        "\n",
        "s0 = sns.countplot(x=\"left\", data=tmp)\n",
        "s0.set_xticklabels(s0.get_xticklabels(),rotation=45)\n",
        "\n",
        "plt.show()"
      ]
    },
    {
      "cell_type": "markdown",
      "metadata": {
        "id": "a5FR4CS8pO2c"
      },
      "source": [
        "trying to check division of salary for each department"
      ]
    },
    {
      "cell_type": "code",
      "execution_count": 26,
      "metadata": {
        "colab": {
          "base_uri": "https://localhost:8080/"
        },
        "id": "Ze_M_NMQlelY",
        "outputId": "68a8f2e4-e137-404c-f263-39fbdd3919ee"
      },
      "outputs": [
        {
          "output_type": "stream",
          "name": "stdout",
          "text": [
            "+-----------+------+-----+\n",
            "| department|salary|count|\n",
            "+-----------+------+-----+\n",
            "|         IT|medium|  535|\n",
            "|         IT|  high|   83|\n",
            "|         IT|   low|  609|\n",
            "|      RandD|medium|  372|\n",
            "|      RandD|  high|   51|\n",
            "|      RandD|   low|  364|\n",
            "| accounting|  high|   74|\n",
            "| accounting|medium|  335|\n",
            "| accounting|   low|  358|\n",
            "|         hr|  high|   45|\n",
            "|         hr|   low|  335|\n",
            "|         hr|medium|  359|\n",
            "| management|medium|  225|\n",
            "| management|   low|  180|\n",
            "| management|  high|  225|\n",
            "|  marketing|   low|  402|\n",
            "|  marketing|medium|  376|\n",
            "|  marketing|  high|   80|\n",
            "|product_mng|medium|  383|\n",
            "|product_mng|   low|  451|\n",
            "+-----------+------+-----+\n",
            "only showing top 20 rows\n",
            "\n"
          ]
        }
      ],
      "source": [
        "df.groupby('department','salary').count().sort(\"department\").show()"
      ]
    },
    {
      "cell_type": "code",
      "execution_count": 27,
      "metadata": {
        "colab": {
          "base_uri": "https://localhost:8080/",
          "height": 484
        },
        "id": "tMJ7NKCefcCl",
        "outputId": "8ae38f46-5d74-4aa4-d43e-79e214ee6255"
      },
      "outputs": [
        {
          "output_type": "display_data",
          "data": {
            "image/png": "[encoded data removed]",
            "text/plain": [
              "<Figure size 864x432 with 1 Axes>"
            ]
          },
          "metadata": {
            "needs_background": "light"
          }
        }
      ],
      "source": [
        "tmp = df.toPandas()\n",
        "\n",
        "fig, ax =plt.subplots(1,1,figsize=(12,6))\n",
        "plt.subplots_adjust(hspace = 0.4, top = 1.0)\n",
        "\n",
        "s0 = sns.countplot(x=\"department\", hue = \"salary\", data=tmp)\n",
        "s0.set_xticklabels(s0.get_xticklabels(),rotation=45)\n",
        "\n",
        "plt.show()"
      ]
    },
    {
      "cell_type": "markdown",
      "metadata": {
        "id": "p2aCq_45rhsh"
      },
      "source": [
        "Checking the number of employees who left or still working in the organisation for each department"
      ]
    },
    {
      "cell_type": "code",
      "execution_count": 26,
      "metadata": {
        "colab": {
          "base_uri": "https://localhost:8080/"
        },
        "id": "_rpCiw71oJOB",
        "outputId": "4be83dc7-0106-41af-81a5-8a7a847ad946"
      },
      "outputs": [
        {
          "output_type": "stream",
          "name": "stdout",
          "text": [
            "+-----------+----+-----+\n",
            "| department|left|count|\n",
            "+-----------+----+-----+\n",
            "|         IT| yes|  273|\n",
            "|         IT|  no|  954|\n",
            "|      RandD| yes|  121|\n",
            "|      RandD|  no|  666|\n",
            "| accounting|  no|  563|\n",
            "| accounting| yes|  204|\n",
            "|         hr|  no|  524|\n",
            "|         hr| yes|  215|\n",
            "| management|  no|  539|\n",
            "| management| yes|   91|\n",
            "|  marketing|  no|  655|\n",
            "|  marketing| yes|  203|\n",
            "|product_mng|  no|  704|\n",
            "|product_mng| yes|  198|\n",
            "|      sales|  no| 3126|\n",
            "|      sales| yes| 1014|\n",
            "|    support| yes|  555|\n",
            "|    support|  no| 1674|\n",
            "|  technical| yes|  697|\n",
            "|  technical|  no| 2023|\n",
            "+-----------+----+-----+\n",
            "\n"
          ]
        }
      ],
      "source": [
        "df.groupby('department','left').count().sort(\"department\").show()"
      ]
    },
    {
      "cell_type": "code",
      "execution_count": 27,
      "metadata": {
        "colab": {
          "base_uri": "https://localhost:8080/",
          "height": 484
        },
        "id": "I8v4fIHtf0SS",
        "outputId": "9fd783a2-96e3-4238-a75a-591ade09071d"
      },
      "outputs": [
        {
          "output_type": "display_data",
          "data": {
            "image/png": "[encoded data removed]",
            "text/plain": [
              "<Figure size 720x432 with 1 Axes>"
            ]
          },
          "metadata": {
            "needs_background": "light"
          }
        }
      ],
      "source": [
        "tmp = df.toPandas()\n",
        "\n",
        "fig, ax =plt.subplots(1,1,figsize=(10,6))\n",
        "plt.subplots_adjust(hspace = 0.4, top = 1.0)\n",
        "\n",
        "s0 = sns.countplot(x=\"department\", hue = \"left\", data=tmp)\n",
        "s0.set_xticklabels(s0.get_xticklabels(),rotation=45)\n",
        "\n",
        "plt.show()"
      ]
    },
    {
      "cell_type": "markdown",
      "metadata": {
        "id": "j1xoMEHcsLxB"
      },
      "source": [
        "Checking the number of employees who left or still working in the organisation for each salary group"
      ]
    },
    {
      "cell_type": "code",
      "execution_count": 28,
      "metadata": {
        "colab": {
          "base_uri": "https://localhost:8080/"
        },
        "id": "gQLenfoUrfKN",
        "outputId": "9935f048-a590-41fc-b113-503fa65eaf61"
      },
      "outputs": [
        {
          "output_type": "stream",
          "name": "stdout",
          "text": [
            "+------+----+-----+\n",
            "|salary|left|count|\n",
            "+------+----+-----+\n",
            "|  high|  no| 1155|\n",
            "|  high| yes|   82|\n",
            "|   low| yes| 2172|\n",
            "|   low|  no| 5144|\n",
            "|medium|  no| 5129|\n",
            "|medium| yes| 1317|\n",
            "+------+----+-----+\n",
            "\n"
          ]
        }
      ],
      "source": [
        "df.groupby('salary','left').count().sort(\"salary\").show()"
      ]
    },
    {
      "cell_type": "code",
      "execution_count": 29,
      "metadata": {
        "colab": {
          "base_uri": "https://localhost:8080/",
          "height": 466
        },
        "id": "ZiGowNFOf-xI",
        "outputId": "8333d896-7f44-4f19-ecdf-e44012eae767"
      },
      "outputs": [
        {
          "output_type": "display_data",
          "data": {
            "image/png": "[encoded data removed]",
            "text/plain": [
              "<Figure size 720x432 with 1 Axes>"
            ]
          },
          "metadata": {
            "needs_background": "light"
          }
        }
      ],
      "source": [
        "tmp = df.toPandas()\n",
        "\n",
        "fig, ax =plt.subplots(1,1,figsize=(10,6))\n",
        "plt.subplots_adjust(hspace = 0.4, top = 1.0)\n",
        "\n",
        "s0 = sns.countplot(x=\"salary\", hue = \"left\", data=tmp)\n",
        "s0.set_xticklabels(s0.get_xticklabels(),rotation=45)\n",
        "\n",
        "plt.show()"
      ]
    },
    {
      "cell_type": "markdown",
      "metadata": {
        "id": "DBRL-lD5t5MX"
      },
      "source": [
        "Checking the number of employees who got prmotion in the last 5 years.\n",
        "* \"0\" means the employee did not get a promotion\n",
        "* \"1\" means the employee got a promotion"
      ]
    },
    {
      "cell_type": "code",
      "execution_count": 30,
      "metadata": {
        "colab": {
          "base_uri": "https://localhost:8080/"
        },
        "id": "v5ESPy4Dtx5o",
        "outputId": "a69845b6-4782-4ed1-82e7-1b6d84d0f421"
      },
      "outputs": [
        {
          "output_type": "stream",
          "name": "stdout",
          "text": [
            "+---------------------+-----+\n",
            "|promotion_last_5years|count|\n",
            "+---------------------+-----+\n",
            "|                    1|  319|\n",
            "|                    0|14680|\n",
            "+---------------------+-----+\n",
            "\n"
          ]
        }
      ],
      "source": [
        "df.groupby('promotion_last_5years').count().show()"
      ]
    },
    {
      "cell_type": "code",
      "execution_count": 31,
      "metadata": {
        "colab": {
          "base_uri": "https://localhost:8080/",
          "height": 442
        },
        "id": "MhAgIk_WuVX1",
        "outputId": "606eba16-b620-4db4-a101-05b1b8189158"
      },
      "outputs": [
        {
          "output_type": "display_data",
          "data": {
            "image/png": "[encoded data removed]",
            "text/plain": [
              "<Figure size 720x432 with 1 Axes>"
            ]
          },
          "metadata": {
            "needs_background": "light"
          }
        }
      ],
      "source": [
        "tmp = df.toPandas()\n",
        "\n",
        "fig, ax =plt.subplots(1,1,figsize=(10,6))\n",
        "plt.subplots_adjust(hspace = 0.4, top = 1.0)\n",
        "\n",
        "s0 = sns.countplot(x=\"promotion_last_5years\", data=tmp)\n",
        "s0.set_xticklabels(s0.get_xticklabels(),rotation=45)\n",
        "\n",
        "plt.show()"
      ]
    },
    {
      "cell_type": "markdown",
      "metadata": {
        "id": "-o0cgeN4tD_C"
      },
      "source": [
        "Cheking the number of employees who left or did not leave the organisation based on the promotion in last 5 years"
      ]
    },
    {
      "cell_type": "code",
      "execution_count": 32,
      "metadata": {
        "colab": {
          "base_uri": "https://localhost:8080/"
        },
        "id": "gawpDMKLsfQW",
        "outputId": "76b699bf-bbbb-45a5-9053-515fecd98b5c"
      },
      "outputs": [
        {
          "output_type": "stream",
          "name": "stdout",
          "text": [
            "+---------------------+----+-----+\n",
            "|promotion_last_5years|left|count|\n",
            "+---------------------+----+-----+\n",
            "|                    0|  no|11128|\n",
            "|                    0| yes| 3552|\n",
            "|                    1| yes|   19|\n",
            "|                    1|  no|  300|\n",
            "+---------------------+----+-----+\n",
            "\n"
          ]
        }
      ],
      "source": [
        "df.groupby('promotion_last_5years','left').count().sort(\"promotion_last_5years\").show()"
      ]
    },
    {
      "cell_type": "code",
      "execution_count": 33,
      "metadata": {
        "colab": {
          "base_uri": "https://localhost:8080/",
          "height": 442
        },
        "id": "f135lDd_setT",
        "outputId": "26b298c9-f399-40fd-8cf0-91980938fa5b"
      },
      "outputs": [
        {
          "output_type": "display_data",
          "data": {
            "image/png": "[encoded data removed]",
            "text/plain": [
              "<Figure size 720x432 with 1 Axes>"
            ]
          },
          "metadata": {
            "needs_background": "light"
          }
        }
      ],
      "source": [
        "tmp = df.toPandas()\n",
        "\n",
        "fig, ax =plt.subplots(1,1,figsize=(10,6))\n",
        "plt.subplots_adjust(hspace = 0.4, top = 1.0)\n",
        "\n",
        "s0 = sns.countplot(x=\"promotion_last_5years\", hue = \"left\", data=tmp)\n",
        "s0.set_xticklabels(s0.get_xticklabels(),rotation=45)\n",
        "\n",
        "plt.show()"
      ]
    },
    {
      "cell_type": "markdown",
      "metadata": {
        "id": "AcDtAW5AvJSI"
      },
      "source": [
        "Checking how many employees suffered accident during work\n",
        "\n",
        "* \"0\" means suffered from accident\n",
        "* \"1\" means didnot suffer from accident"
      ]
    },
    {
      "cell_type": "code",
      "execution_count": 34,
      "metadata": {
        "colab": {
          "base_uri": "https://localhost:8080/"
        },
        "id": "3TD_NKYAuxKF",
        "outputId": "7e99994d-3032-4f19-d5d5-369dd3bfab20"
      },
      "outputs": [
        {
          "output_type": "stream",
          "name": "stdout",
          "text": [
            "+-------------+-----+\n",
            "|Work_accident|count|\n",
            "+-------------+-----+\n",
            "|            1| 2169|\n",
            "|            0|12830|\n",
            "+-------------+-----+\n",
            "\n"
          ]
        }
      ],
      "source": [
        "df.groupby('Work_accident').count().show()"
      ]
    },
    {
      "cell_type": "code",
      "execution_count": 35,
      "metadata": {
        "colab": {
          "base_uri": "https://localhost:8080/",
          "height": 442
        },
        "id": "xeMvKkPvvRn9",
        "outputId": "eabb3444-7a05-481e-cf67-9c7e41758d16"
      },
      "outputs": [
        {
          "output_type": "display_data",
          "data": {
            "image/png": "[encoded data removed]",
            "text/plain": [
              "<Figure size 720x432 with 1 Axes>"
            ]
          },
          "metadata": {
            "needs_background": "light"
          }
        }
      ],
      "source": [
        "tmp = df.toPandas()\n",
        "\n",
        "fig, ax =plt.subplots(1,1,figsize=(10,6))\n",
        "plt.subplots_adjust(hspace = 0.4, top = 1.0)\n",
        "\n",
        "s0 = sns.countplot(x=\"Work_accident\", data=tmp)\n",
        "s0.set_xticklabels(s0.get_xticklabels(),rotation=45)\n",
        "\n",
        "plt.show()"
      ]
    },
    {
      "cell_type": "markdown",
      "metadata": {
        "id": "-3MtI7NKvsml"
      },
      "source": [
        "Checking how many of the employees suffered accident during work left the organisation"
      ]
    },
    {
      "cell_type": "code",
      "execution_count": 36,
      "metadata": {
        "colab": {
          "base_uri": "https://localhost:8080/"
        },
        "id": "n45_ks_uvsZi",
        "outputId": "88fcd0fd-2618-4989-f91d-cf68e3dc6381"
      },
      "outputs": [
        {
          "output_type": "stream",
          "name": "stdout",
          "text": [
            "+-------------+----+-----+\n",
            "|Work_accident|left|count|\n",
            "+-------------+----+-----+\n",
            "|            0|  no| 9428|\n",
            "|            0| yes| 3402|\n",
            "|            1| yes|  169|\n",
            "|            1|  no| 2000|\n",
            "+-------------+----+-----+\n",
            "\n"
          ]
        }
      ],
      "source": [
        "df.groupby('Work_accident','left').count().sort(\"Work_accident\").show()"
      ]
    },
    {
      "cell_type": "code",
      "execution_count": 37,
      "metadata": {
        "colab": {
          "base_uri": "https://localhost:8080/",
          "height": 442
        },
        "id": "-XQ6YWsmwHs4",
        "outputId": "bd6d5647-5209-4cd7-9d35-478a60b54d15"
      },
      "outputs": [
        {
          "output_type": "display_data",
          "data": {
            "image/png": "[encoded data removed]",
            "text/plain": [
              "<Figure size 720x432 with 1 Axes>"
            ]
          },
          "metadata": {
            "needs_background": "light"
          }
        }
      ],
      "source": [
        "tmp = df.toPandas()\n",
        "\n",
        "fig, ax =plt.subplots(1,1,figsize=(10,6))\n",
        "plt.subplots_adjust(hspace = 0.4, top = 1.0)\n",
        "\n",
        "s0 = sns.countplot(x=\"Work_accident\", hue = \"left\", data=tmp)\n",
        "s0.set_xticklabels(s0.get_xticklabels(),rotation=45)\n",
        "\n",
        "plt.show()"
      ]
    },
    {
      "cell_type": "markdown",
      "metadata": {
        "id": "LicMwI1wwchr"
      },
      "source": [
        "Checking the number of projects employees used to get and also checking the count of the employees for the same"
      ]
    },
    {
      "cell_type": "code",
      "execution_count": 38,
      "metadata": {
        "colab": {
          "base_uri": "https://localhost:8080/"
        },
        "id": "qbMBCw52wcMB",
        "outputId": "a28de436-01eb-4b9b-aec8-f440532d7940"
      },
      "outputs": [
        {
          "output_type": "stream",
          "name": "stdout",
          "text": [
            "+--------------+-----+\n",
            "|number_project|count|\n",
            "+--------------+-----+\n",
            "|             6| 1174|\n",
            "|             3| 4055|\n",
            "|             5| 2761|\n",
            "|             4| 4365|\n",
            "|             7|  256|\n",
            "|             2| 2388|\n",
            "+--------------+-----+\n",
            "\n"
          ]
        }
      ],
      "source": [
        "df.groupby('number_project').count().show()"
      ]
    },
    {
      "cell_type": "code",
      "execution_count": 39,
      "metadata": {
        "id": "OKCZRAJCw12v",
        "colab": {
          "base_uri": "https://localhost:8080/",
          "height": 442
        },
        "outputId": "5e5fb7dc-4209-4a68-a20e-83f476947299"
      },
      "outputs": [
        {
          "output_type": "display_data",
          "data": {
            "image/png": "[encoded data removed]",
            "text/plain": [
              "<Figure size 720x432 with 1 Axes>"
            ]
          },
          "metadata": {
            "needs_background": "light"
          }
        }
      ],
      "source": [
        "tmp = df.toPandas()\n",
        "\n",
        "fig, ax =plt.subplots(1,1,figsize=(10,6))\n",
        "plt.subplots_adjust(hspace = 0.4, top = 1.0)\n",
        "\n",
        "s0 = sns.countplot(x=\"number_project\", data=tmp)\n",
        "s0.set_xticklabels(s0.get_xticklabels(),rotation=45)\n",
        "\n",
        "plt.show()"
      ]
    },
    {
      "cell_type": "markdown",
      "metadata": {
        "id": "4xw4fqVvxBhr"
      },
      "source": [
        "Checking and trying to understand if the employees left the oranisation due to more number of projects on an individual"
      ]
    },
    {
      "cell_type": "code",
      "execution_count": 40,
      "metadata": {
        "id": "itbgW1rCxA0m",
        "colab": {
          "base_uri": "https://localhost:8080/"
        },
        "outputId": "6c51168e-6114-4501-a71b-f23bbf86de18"
      },
      "outputs": [
        {
          "output_type": "stream",
          "name": "stdout",
          "text": [
            "+--------------+----+-----+\n",
            "|number_project|left|count|\n",
            "+--------------+----+-----+\n",
            "|             2|  no|  821|\n",
            "|             2| yes| 1567|\n",
            "|             3| yes|   72|\n",
            "|             3|  no| 3983|\n",
            "|             4|  no| 3956|\n",
            "|             4| yes|  409|\n",
            "|             5|  no| 2149|\n",
            "|             5| yes|  612|\n",
            "|             6| yes|  655|\n",
            "|             6|  no|  519|\n",
            "|             7| yes|  256|\n",
            "+--------------+----+-----+\n",
            "\n"
          ]
        }
      ],
      "source": [
        "df.groupby('number_project','left').count().sort(\"number_project\").show()"
      ]
    },
    {
      "cell_type": "code",
      "execution_count": 41,
      "metadata": {
        "id": "X82CfmsBxAxc",
        "colab": {
          "base_uri": "https://localhost:8080/",
          "height": 442
        },
        "outputId": "23f1f5a0-6f52-41f8-b297-57a7c646d00f"
      },
      "outputs": [
        {
          "output_type": "display_data",
          "data": {
            "image/png": "[encoded data removed]",
            "text/plain": [
              "<Figure size 720x432 with 1 Axes>"
            ]
          },
          "metadata": {
            "needs_background": "light"
          }
        }
      ],
      "source": [
        "tmp = df.toPandas()\n",
        "\n",
        "fig, ax =plt.subplots(1,1,figsize=(10,6))\n",
        "plt.subplots_adjust(hspace = 0.4, top = 1.0)\n",
        "\n",
        "s0 = sns.countplot(x=\"number_project\", hue = \"left\", data=tmp)\n",
        "s0.set_xticklabels(s0.get_xticklabels(),rotation=45)\n",
        "\n",
        "plt.show()"
      ]
    },
    {
      "cell_type": "markdown",
      "metadata": {
        "id": "kHRdMjkByc5x"
      },
      "source": [
        "Checking the mean satisfaction level of the employees who left the organisation and the ones who did not leave"
      ]
    },
    {
      "cell_type": "code",
      "execution_count": 42,
      "metadata": {
        "id": "G5BFT1NjxAuR",
        "colab": {
          "base_uri": "https://localhost:8080/",
          "height": 440
        },
        "outputId": "5f331e70-c57e-47b6-e6ef-eebcf8c51a01"
      },
      "outputs": [
        {
          "output_type": "stream",
          "name": "stdout",
          "text": [
            "  left  avg(satisfaction_level)\n",
            "0   no                 0.666810\n",
            "1  yes                 0.440098\n"
          ]
        },
        {
          "output_type": "execute_result",
          "data": {
            "text/plain": [
              "[Text(0, 0, 'no'), Text(0, 0, 'yes')]"
            ]
          },
          "metadata": {},
          "execution_count": 42
        },
        {
          "output_type": "display_data",
          "data": {
            "image/png": "[encoded data removed]",
            "text/plain": [
              "<Figure size 720x432 with 1 Axes>"
            ]
          },
          "metadata": {
            "needs_background": "light"
          }
        }
      ],
      "source": [
        "temp = df.groupby('left').agg({'satisfaction_level': 'mean'}).toPandas()\n",
        "print(temp)\n",
        "fig, ax = plt.subplots(1,1, figsize=(10,6))\n",
        "plt.subplots_adjust(hspace = 0.4, top = 0.8)\n",
        "s0 = sns.barplot(x=\"left\", y=\"avg(satisfaction_level)\", data=temp)\n",
        "s0.set(xlabel='Has left the organisation',ylabel='Average satisfaction level of the employees')\n",
        "s0.set_xticklabels(s0.get_xticklabels(),rotation=45)"
      ]
    },
    {
      "cell_type": "markdown",
      "metadata": {
        "id": "fmTZZcZCzslT"
      },
      "source": [
        "Checking the average points secured in the last evaluation by the employees who left the organisation and the ones who did not"
      ]
    },
    {
      "cell_type": "code",
      "execution_count": 43,
      "metadata": {
        "id": "BGHhelaTzsV9",
        "colab": {
          "base_uri": "https://localhost:8080/",
          "height": 436
        },
        "outputId": "52397295-3cb8-4432-d4f9-ca524331f381"
      },
      "outputs": [
        {
          "output_type": "stream",
          "name": "stdout",
          "text": [
            "  left  avg(last_evaluation)\n",
            "0   no              0.715473\n",
            "1  yes              0.718113\n"
          ]
        },
        {
          "output_type": "execute_result",
          "data": {
            "text/plain": [
              "[Text(0, 0, 'no'), Text(0, 0, 'yes')]"
            ]
          },
          "metadata": {},
          "execution_count": 43
        },
        {
          "output_type": "display_data",
          "data": {
            "image/png": "[encoded data removed]",
            "text/plain": [
              "<Figure size 720x432 with 1 Axes>"
            ]
          },
          "metadata": {
            "needs_background": "light"
          }
        }
      ],
      "source": [
        "temp = df.groupby('left').agg({'last_evaluation': 'mean'}).toPandas()\n",
        "print(temp)\n",
        "fig, ax = plt.subplots(1,1, figsize=(10,6))\n",
        "plt.subplots_adjust(hspace = 0.4, top = 0.8)\n",
        "s0 = sns.barplot(x=\"left\", y=\"avg(last_evaluation)\", data=temp)\n",
        "s0.set(xlabel='Has left the organisation',ylabel='Average value of last evaluation of the employees')\n",
        "s0.set_xticklabels(s0.get_xticklabels(),rotation=45)"
      ]
    },
    {
      "cell_type": "markdown",
      "metadata": {
        "id": "FxW5nVmL1gzf"
      },
      "source": [
        "Checking the average monthly hours worked by the employees who left the organisation and the ones who did not"
      ]
    },
    {
      "cell_type": "code",
      "execution_count": 44,
      "metadata": {
        "id": "gLPqXgpOzrmw",
        "colab": {
          "base_uri": "https://localhost:8080/",
          "height": 436
        },
        "outputId": "baf50d30-5f46-4780-e0ad-a81ca8d1d4bc"
      },
      "outputs": [
        {
          "output_type": "stream",
          "name": "stdout",
          "text": [
            "  left  avg(average_montly_hours)\n",
            "0   no                 199.060203\n",
            "1  yes                 207.419210\n"
          ]
        },
        {
          "output_type": "execute_result",
          "data": {
            "text/plain": [
              "[Text(0, 0, 'no'), Text(0, 0, 'yes')]"
            ]
          },
          "metadata": {},
          "execution_count": 44
        },
        {
          "output_type": "display_data",
          "data": {
            "image/png": "[encoded data removed]",
            "text/plain": [
              "<Figure size 720x432 with 1 Axes>"
            ]
          },
          "metadata": {
            "needs_background": "light"
          }
        }
      ],
      "source": [
        "temp = df.groupby('left').agg({'average_montly_hours': 'mean'}).toPandas()\n",
        "print(temp)\n",
        "fig, ax = plt.subplots(1,1, figsize=(10,6))\n",
        "plt.subplots_adjust(hspace = 0.4, top = 0.8)\n",
        "s0 = sns.barplot(x=\"left\", y=\"avg(average_montly_hours)\", data=temp)\n",
        "s0.set(xlabel='Has left the organisation',ylabel='Average monthly hours of the employees')\n",
        "s0.set_xticklabels(s0.get_xticklabels(),rotation=45)"
      ]
    },
    {
      "cell_type": "code",
      "execution_count": 45,
      "metadata": {
        "id": "u4th6USN1LP3",
        "colab": {
          "base_uri": "https://localhost:8080/",
          "height": 452
        },
        "outputId": "e9aa10ca-e191-4f7e-f7dd-77fdf6092356"
      },
      "outputs": [
        {
          "output_type": "stream",
          "name": "stdout",
          "text": [
            "  left  avg(time_spend_company)\n",
            "0   no                 3.380032\n",
            "1  yes                 3.876505\n"
          ]
        },
        {
          "output_type": "execute_result",
          "data": {
            "text/plain": [
              "[Text(0, 0, 'no'), Text(0, 0, 'yes')]"
            ]
          },
          "metadata": {},
          "execution_count": 45
        },
        {
          "output_type": "display_data",
          "data": {
            "image/png": "[encoded data removed]",
            "text/plain": [
              "<Figure size 720x432 with 1 Axes>"
            ]
          },
          "metadata": {
            "needs_background": "light"
          }
        }
      ],
      "source": [
        "temp = df.groupby('left').agg({'time_spend_company': 'mean'}).toPandas()\n",
        "print(temp)\n",
        "fig, ax = plt.subplots(1,1, figsize=(10,6))\n",
        "plt.subplots_adjust(hspace = 0.4, top = 0.8)\n",
        "s0 = sns.barplot(x=\"left\", y=\"avg(time_spend_company)\", data=temp)\n",
        "s0.set(xlabel='Has left the organisation',ylabel='Average no. of years spent by the employees in the organisation')\n",
        "s0.set_xticklabels(s0.get_xticklabels(),rotation=45)"
      ]
    },
    {
      "cell_type": "markdown",
      "metadata": {
        "id": "cFFvElJf5_Fm"
      },
      "source": [
        "Taking out the numeric features from the data frame"
      ]
    },
    {
      "cell_type": "code",
      "execution_count": 46,
      "metadata": {
        "id": "_8mns5fJ3V6D",
        "colab": {
          "base_uri": "https://localhost:8080/",
          "height": 206
        },
        "outputId": "a5b5f9bd-ab3f-48ab-bb71-cbdf05ac3ce6"
      },
      "outputs": [
        {
          "output_type": "execute_result",
          "data": {
            "text/html": [
              "\n",
              "  <div id=\"df-00a93ecc-3d76-4de2-ae1e-85a72fa68b8f\">\n",
              "    <div class=\"colab-df-container\">\n",
              "      <div>\n",
              "<style scoped>\n",
              "    .dataframe tbody tr th:only-of-type {\n",
              "        vertical-align: middle;\n",
              "    }\n",
              "\n",
              "    .dataframe tbody tr th {\n",
              "        vertical-align: top;\n",
              "    }\n",
              "\n",
              "    .dataframe thead th {\n",
              "        text-align: right;\n",
              "    }\n",
              "</style>\n",
              "<table border=\"1\" class=\"dataframe\">\n",
              "  <thead>\n",
              "    <tr style=\"text-align: right;\">\n",
              "      <th></th>\n",
              "      <th>satisfaction_level</th>\n",
              "      <th>last_evaluation</th>\n",
              "      <th>number_project</th>\n",
              "      <th>average_montly_hours</th>\n",
              "      <th>time_spend_company</th>\n",
              "      <th>Work_accident</th>\n",
              "      <th>promotion_last_5years</th>\n",
              "    </tr>\n",
              "  </thead>\n",
              "  <tbody>\n",
              "    <tr>\n",
              "      <th>0</th>\n",
              "      <td>0.38</td>\n",
              "      <td>0.53</td>\n",
              "      <td>2</td>\n",
              "      <td>157</td>\n",
              "      <td>3</td>\n",
              "      <td>0</td>\n",
              "      <td>0</td>\n",
              "    </tr>\n",
              "    <tr>\n",
              "      <th>1</th>\n",
              "      <td>0.80</td>\n",
              "      <td>0.86</td>\n",
              "      <td>5</td>\n",
              "      <td>262</td>\n",
              "      <td>6</td>\n",
              "      <td>0</td>\n",
              "      <td>0</td>\n",
              "    </tr>\n",
              "    <tr>\n",
              "      <th>2</th>\n",
              "      <td>0.11</td>\n",
              "      <td>0.88</td>\n",
              "      <td>7</td>\n",
              "      <td>272</td>\n",
              "      <td>4</td>\n",
              "      <td>0</td>\n",
              "      <td>0</td>\n",
              "    </tr>\n",
              "    <tr>\n",
              "      <th>3</th>\n",
              "      <td>0.72</td>\n",
              "      <td>0.87</td>\n",
              "      <td>5</td>\n",
              "      <td>223</td>\n",
              "      <td>5</td>\n",
              "      <td>0</td>\n",
              "      <td>0</td>\n",
              "    </tr>\n",
              "    <tr>\n",
              "      <th>4</th>\n",
              "      <td>0.37</td>\n",
              "      <td>0.52</td>\n",
              "      <td>2</td>\n",
              "      <td>159</td>\n",
              "      <td>3</td>\n",
              "      <td>0</td>\n",
              "      <td>0</td>\n",
              "    </tr>\n",
              "  </tbody>\n",
              "</table>\n",
              "</div>\n",
              "      <button class=\"colab-df-convert\" onclick=\"convertToInteractive('df-00a93ecc-3d76-4de2-ae1e-85a72fa68b8f')\"\n",
              "              title=\"Convert this dataframe to an interactive table.\"\n",
              "              style=\"display:none;\">\n",
              "        \n",
              "  <svg xmlns=\"http://www.w3.org/2000/svg\" height=\"24px\"viewBox=\"0 0 24 24\"\n",
              "       width=\"24px\">\n",
              "    <path d=\"M0 0h24v24H0V0z\" fill=\"none\"/>\n",
              "    <path d=\"M18.56 5.44l.94 2.06.94-2.06 2.06-.94-2.06-.94-.94-2.06-.94 2.06-2.06.94zm-11 1L8.5 8.5l.94-2.06 2.06-.94-2.06-.94L8.5 2.5l-.94 2.06-2.06.94zm10 10l.94 2.06.94-2.06 2.06-.94-2.06-.94-.94-2.06-.94 2.06-2.06.94z\"/><path d=\"M17.41 7.96l-1.37-1.37c-.4-.4-.92-.59-1.43-.59-.52 0-1.04.2-1.43.59L10.3 9.45l-7.72 7.72c-.78.78-.78 2.05 0 2.83L4 21.41c.39.39.9.59 1.41.59.51 0 1.02-.2 1.41-.59l7.78-7.78 2.81-2.81c.8-.78.8-2.07 0-2.86zM5.41 20L4 18.59l7.72-7.72 1.47 1.35L5.41 20z\"/>\n",
              "  </svg>\n",
              "      </button>\n",
              "      \n",
              "  <style>\n",
              "    .colab-df-container {\n",
              "      display:flex;\n",
              "      flex-wrap:wrap;\n",
              "      gap: 12px;\n",
              "    }\n",
              "\n",
              "    .colab-df-convert {\n",
              "      background-color: #E8F0FE;\n",
              "      border: none;\n",
              "      border-radius: 50%;\n",
              "      cursor: pointer;\n",
              "      display: none;\n",
              "      fill: #1967D2;\n",
              "      height: 32px;\n",
              "      padding: 0 0 0 0;\n",
              "      width: 32px;\n",
              "    }\n",
              "\n",
              "    .colab-df-convert:hover {\n",
              "      background-color: #E2EBFA;\n",
              "      box-shadow: 0px 1px 2px rgba(60, 64, 67, 0.3), 0px 1px 3px 1px rgba(60, 64, 67, 0.15);\n",
              "      fill: #174EA6;\n",
              "    }\n",
              "\n",
              "    [theme=dark] .colab-df-convert {\n",
              "      background-color: #3B4455;\n",
              "      fill: #D2E3FC;\n",
              "    }\n",
              "\n",
              "    [theme=dark] .colab-df-convert:hover {\n",
              "      background-color: #434B5C;\n",
              "      box-shadow: 0px 1px 3px 1px rgba(0, 0, 0, 0.15);\n",
              "      filter: drop-shadow(0px 1px 2px rgba(0, 0, 0, 0.3));\n",
              "      fill: #FFFFFF;\n",
              "    }\n",
              "  </style>\n",
              "\n",
              "      <script>\n",
              "        const buttonEl =\n",
              "          document.querySelector('#df-00a93ecc-3d76-4de2-ae1e-85a72fa68b8f button.colab-df-convert');\n",
              "        buttonEl.style.display =\n",
              "          google.colab.kernel.accessAllowed ? 'block' : 'none';\n",
              "\n",
              "        async function convertToInteractive(key) {\n",
              "          const element = document.querySelector('#df-00a93ecc-3d76-4de2-ae1e-85a72fa68b8f');\n",
              "          const dataTable =\n",
              "            await google.colab.kernel.invokeFunction('convertToInteractive',\n",
              "                                                     [key], {});\n",
              "          if (!dataTable) return;\n",
              "\n",
              "          const docLinkHtml = 'Like what you see? Visit the ' +\n",
              "            '<a target=\"_blank\" href=https://colab.research.google.com/notebooks/data_table.ipynb>data table notebook</a>'\n",
              "            + ' to learn more about interactive tables.';\n",
              "          element.innerHTML = '';\n",
              "          dataTable['output_type'] = 'display_data';\n",
              "          await google.colab.output.renderOutput(dataTable, element);\n",
              "          const docLink = document.createElement('div');\n",
              "          docLink.innerHTML = docLinkHtml;\n",
              "          element.appendChild(docLink);\n",
              "        }\n",
              "      </script>\n",
              "    </div>\n",
              "  </div>\n",
              "  "
            ],
            "text/plain": [
              "   satisfaction_level  last_evaluation  number_project  average_montly_hours  \\\n",
              "0                0.38             0.53               2                   157   \n",
              "1                0.80             0.86               5                   262   \n",
              "2                0.11             0.88               7                   272   \n",
              "3                0.72             0.87               5                   223   \n",
              "4                0.37             0.52               2                   159   \n",
              "\n",
              "   time_spend_company  Work_accident  promotion_last_5years  \n",
              "0                   3              0                      0  \n",
              "1                   6              0                      0  \n",
              "2                   4              0                      0  \n",
              "3                   5              0                      0  \n",
              "4                   3              0                      0  "
            ]
          },
          "metadata": {},
          "execution_count": 46
        }
      ],
      "source": [
        "numeric_features = [t[0] for t in df.dtypes if t[1] !='string']\n",
        "numeric_features_df = df.select(numeric_features)\n",
        "numeric_features_df.toPandas().head()"
      ]
    },
    {
      "cell_type": "code",
      "execution_count": 47,
      "metadata": {
        "id": "qG8W15cO3PpY"
      },
      "outputs": [],
      "source": [
        "col_names = numeric_features_df.columns\n",
        "features = numeric_features_df.rdd.map(lambda row: row[0:])"
      ]
    },
    {
      "cell_type": "markdown",
      "metadata": {
        "id": "N-klhucE6IuE"
      },
      "source": [
        "Checking the correlation among the numeric features"
      ]
    },
    {
      "cell_type": "code",
      "execution_count": 48,
      "metadata": {
        "id": "UthVc3852-jr",
        "colab": {
          "base_uri": "https://localhost:8080/",
          "height": 625
        },
        "outputId": "797ac55a-4020-4d0c-d703-59e10b7cb724"
      },
      "outputs": [
        {
          "output_type": "execute_result",
          "data": {
            "text/html": [
              "\n",
              "  <div id=\"df-d8fc668a-9d3b-4e80-9576-405c66585057\">\n",
              "    <div class=\"colab-df-container\">\n",
              "      <div>\n",
              "<style scoped>\n",
              "    .dataframe tbody tr th:only-of-type {\n",
              "        vertical-align: middle;\n",
              "    }\n",
              "\n",
              "    .dataframe tbody tr th {\n",
              "        vertical-align: top;\n",
              "    }\n",
              "\n",
              "    .dataframe thead th {\n",
              "        text-align: right;\n",
              "    }\n",
              "</style>\n",
              "<table border=\"1\" class=\"dataframe\">\n",
              "  <thead>\n",
              "    <tr style=\"text-align: right;\">\n",
              "      <th></th>\n",
              "      <th>satisfaction_level</th>\n",
              "      <th>last_evaluation</th>\n",
              "      <th>number_project</th>\n",
              "      <th>average_montly_hours</th>\n",
              "      <th>time_spend_company</th>\n",
              "      <th>Work_accident</th>\n",
              "      <th>promotion_last_5years</th>\n",
              "    </tr>\n",
              "  </thead>\n",
              "  <tbody>\n",
              "    <tr>\n",
              "      <th>satisfaction_level</th>\n",
              "      <td>1.00</td>\n",
              "      <td>0.11</td>\n",
              "      <td>-0.14</td>\n",
              "      <td>-0.02</td>\n",
              "      <td>-0.10</td>\n",
              "      <td>0.06</td>\n",
              "      <td>0.03</td>\n",
              "    </tr>\n",
              "    <tr>\n",
              "      <th>last_evaluation</th>\n",
              "      <td>0.11</td>\n",
              "      <td>1.00</td>\n",
              "      <td>0.35</td>\n",
              "      <td>0.34</td>\n",
              "      <td>0.13</td>\n",
              "      <td>-0.01</td>\n",
              "      <td>-0.01</td>\n",
              "    </tr>\n",
              "    <tr>\n",
              "      <th>number_project</th>\n",
              "      <td>-0.14</td>\n",
              "      <td>0.35</td>\n",
              "      <td>1.00</td>\n",
              "      <td>0.42</td>\n",
              "      <td>0.20</td>\n",
              "      <td>-0.00</td>\n",
              "      <td>-0.01</td>\n",
              "    </tr>\n",
              "    <tr>\n",
              "      <th>average_montly_hours</th>\n",
              "      <td>-0.02</td>\n",
              "      <td>0.34</td>\n",
              "      <td>0.42</td>\n",
              "      <td>1.00</td>\n",
              "      <td>0.13</td>\n",
              "      <td>-0.01</td>\n",
              "      <td>-0.00</td>\n",
              "    </tr>\n",
              "    <tr>\n",
              "      <th>time_spend_company</th>\n",
              "      <td>-0.10</td>\n",
              "      <td>0.13</td>\n",
              "      <td>0.20</td>\n",
              "      <td>0.13</td>\n",
              "      <td>1.00</td>\n",
              "      <td>0.00</td>\n",
              "      <td>0.07</td>\n",
              "    </tr>\n",
              "    <tr>\n",
              "      <th>Work_accident</th>\n",
              "      <td>0.06</td>\n",
              "      <td>-0.01</td>\n",
              "      <td>-0.00</td>\n",
              "      <td>-0.01</td>\n",
              "      <td>0.00</td>\n",
              "      <td>1.00</td>\n",
              "      <td>0.04</td>\n",
              "    </tr>\n",
              "    <tr>\n",
              "      <th>promotion_last_5years</th>\n",
              "      <td>0.03</td>\n",
              "      <td>-0.01</td>\n",
              "      <td>-0.01</td>\n",
              "      <td>-0.00</td>\n",
              "      <td>0.07</td>\n",
              "      <td>0.04</td>\n",
              "      <td>1.00</td>\n",
              "    </tr>\n",
              "  </tbody>\n",
              "</table>\n",
              "</div>\n",
              "      <button class=\"colab-df-convert\" onclick=\"convertToInteractive('df-d8fc668a-9d3b-4e80-9576-405c66585057')\"\n",
              "              title=\"Convert this dataframe to an interactive table.\"\n",
              "              style=\"display:none;\">\n",
              "        \n",
              "  <svg xmlns=\"http://www.w3.org/2000/svg\" height=\"24px\"viewBox=\"0 0 24 24\"\n",
              "       width=\"24px\">\n",
              "    <path d=\"M0 0h24v24H0V0z\" fill=\"none\"/>\n",
              "    <path d=\"M18.56 5.44l.94 2.06.94-2.06 2.06-.94-2.06-.94-.94-2.06-.94 2.06-2.06.94zm-11 1L8.5 8.5l.94-2.06 2.06-.94-2.06-.94L8.5 2.5l-.94 2.06-2.06.94zm10 10l.94 2.06.94-2.06 2.06-.94-2.06-.94-.94-2.06-.94 2.06-2.06.94z\"/><path d=\"M17.41 7.96l-1.37-1.37c-.4-.4-.92-.59-1.43-.59-.52 0-1.04.2-1.43.59L10.3 9.45l-7.72 7.72c-.78.78-.78 2.05 0 2.83L4 21.41c.39.39.9.59 1.41.59.51 0 1.02-.2 1.41-.59l7.78-7.78 2.81-2.81c.8-.78.8-2.07 0-2.86zM5.41 20L4 18.59l7.72-7.72 1.47 1.35L5.41 20z\"/>\n",
              "  </svg>\n",
              "      </button>\n",
              "      \n",
              "  <style>\n",
              "    .colab-df-container {\n",
              "      display:flex;\n",
              "      flex-wrap:wrap;\n",
              "      gap: 12px;\n",
              "    }\n",
              "\n",
              "    .colab-df-convert {\n",
              "      background-color: #E8F0FE;\n",
              "      border: none;\n",
              "      border-radius: 50%;\n",
              "      cursor: pointer;\n",
              "      display: none;\n",
              "      fill: #1967D2;\n",
              "      height: 32px;\n",
              "      padding: 0 0 0 0;\n",
              "      width: 32px;\n",
              "    }\n",
              "\n",
              "    .colab-df-convert:hover {\n",
              "      background-color: #E2EBFA;\n",
              "      box-shadow: 0px 1px 2px rgba(60, 64, 67, 0.3), 0px 1px 3px 1px rgba(60, 64, 67, 0.15);\n",
              "      fill: #174EA6;\n",
              "    }\n",
              "\n",
              "    [theme=dark] .colab-df-convert {\n",
              "      background-color: #3B4455;\n",
              "      fill: #D2E3FC;\n",
              "    }\n",
              "\n",
              "    [theme=dark] .colab-df-convert:hover {\n",
              "      background-color: #434B5C;\n",
              "      box-shadow: 0px 1px 3px 1px rgba(0, 0, 0, 0.15);\n",
              "      filter: drop-shadow(0px 1px 2px rgba(0, 0, 0, 0.3));\n",
              "      fill: #FFFFFF;\n",
              "    }\n",
              "  </style>\n",
              "\n",
              "      <script>\n",
              "        const buttonEl =\n",
              "          document.querySelector('#df-d8fc668a-9d3b-4e80-9576-405c66585057 button.colab-df-convert');\n",
              "        buttonEl.style.display =\n",
              "          google.colab.kernel.accessAllowed ? 'block' : 'none';\n",
              "\n",
              "        async function convertToInteractive(key) {\n",
              "          const element = document.querySelector('#df-d8fc668a-9d3b-4e80-9576-405c66585057');\n",
              "          const dataTable =\n",
              "            await google.colab.kernel.invokeFunction('convertToInteractive',\n",
              "                                                     [key], {});\n",
              "          if (!dataTable) return;\n",
              "\n",
              "          const docLinkHtml = 'Like what you see? Visit the ' +\n",
              "            '<a target=\"_blank\" href=https://colab.research.google.com/notebooks/data_table.ipynb>data table notebook</a>'\n",
              "            + ' to learn more about interactive tables.';\n",
              "          element.innerHTML = '';\n",
              "          dataTable['output_type'] = 'display_data';\n",
              "          await google.colab.output.renderOutput(dataTable, element);\n",
              "          const docLink = document.createElement('div');\n",
              "          docLink.innerHTML = docLinkHtml;\n",
              "          element.appendChild(docLink);\n",
              "        }\n",
              "      </script>\n",
              "    </div>\n",
              "  </div>\n",
              "  "
            ],
            "text/plain": [
              "                       satisfaction_level  last_evaluation  number_project  \\\n",
              "satisfaction_level                   1.00             0.11           -0.14   \n",
              "last_evaluation                      0.11             1.00            0.35   \n",
              "number_project                      -0.14             0.35            1.00   \n",
              "average_montly_hours                -0.02             0.34            0.42   \n",
              "time_spend_company                  -0.10             0.13            0.20   \n",
              "Work_accident                        0.06            -0.01           -0.00   \n",
              "promotion_last_5years                0.03            -0.01           -0.01   \n",
              "\n",
              "                       average_montly_hours  time_spend_company  \\\n",
              "satisfaction_level                    -0.02               -0.10   \n",
              "last_evaluation                        0.34                0.13   \n",
              "number_project                         0.42                0.20   \n",
              "average_montly_hours                   1.00                0.13   \n",
              "time_spend_company                     0.13                1.00   \n",
              "Work_accident                         -0.01                0.00   \n",
              "promotion_last_5years                 -0.00                0.07   \n",
              "\n",
              "                       Work_accident  promotion_last_5years  \n",
              "satisfaction_level              0.06                   0.03  \n",
              "last_evaluation                -0.01                  -0.01  \n",
              "number_project                 -0.00                  -0.01  \n",
              "average_montly_hours           -0.01                  -0.00  \n",
              "time_spend_company              0.00                   0.07  \n",
              "Work_accident                   1.00                   0.04  \n",
              "promotion_last_5years           0.04                   1.00  "
            ]
          },
          "metadata": {},
          "execution_count": 48
        },
        {
          "output_type": "display_data",
          "data": {
            "image/png": "[encoded data removed]",
            "text/plain": [
              "<Figure size 432x288 with 2 Axes>"
            ]
          },
          "metadata": {
            "needs_background": "light"
          }
        }
      ],
      "source": [
        "corr_mat = Statistics.corr(features, method=\"pearson\")\n",
        "corr_df = pd.DataFrame(corr_mat)\n",
        "corr_df.index = col_names\n",
        "corr_df.columns = col_names\n",
        "sns.heatmap(corr_df)\n",
        "round(corr_df, 2)"
      ]
    },
    {
      "cell_type": "markdown",
      "metadata": {
        "id": "znDLoeulJzWM"
      },
      "source": [
        "# Feature Engineering"
      ]
    },
    {
      "cell_type": "markdown",
      "metadata": {
        "id": "F_bDr-8XNKjI"
      },
      "source": [
        "Taking out the categorical features in \"cat_feature\" variable and the numeric features in \"num_feature\" variable from the train data"
      ]
    },
    {
      "cell_type": "code",
      "execution_count": 49,
      "metadata": {
        "id": "DoQSeH3vNOpQ"
      },
      "outputs": [],
      "source": [
        "cat_feature = [x for (x, y) in df.dtypes if (y == 'string') & (x != 'left')]\n",
        "num_feature = [x for (x,y) in df.dtypes if (y == 'double') or (y == 'int')]"
      ]
    },
    {
      "cell_type": "code",
      "execution_count": 50,
      "metadata": {
        "id": "gHT7WgYVNl3f",
        "colab": {
          "base_uri": "https://localhost:8080/"
        },
        "outputId": "d0538088-9623-4e6b-ea30-f9a7b51a509d"
      },
      "outputs": [
        {
          "output_type": "execute_result",
          "data": {
            "text/plain": [
              "['department', 'salary']"
            ]
          },
          "metadata": {},
          "execution_count": 50
        }
      ],
      "source": [
        "cat_feature"
      ]
    },
    {
      "cell_type": "code",
      "execution_count": 51,
      "metadata": {
        "id": "E8actG1rNoPV",
        "colab": {
          "base_uri": "https://localhost:8080/"
        },
        "outputId": "1ab83a64-ae4f-4980-e357-a7920f10e2ac"
      },
      "outputs": [
        {
          "output_type": "execute_result",
          "data": {
            "text/plain": [
              "['satisfaction_level',\n",
              " 'last_evaluation',\n",
              " 'number_project',\n",
              " 'average_montly_hours',\n",
              " 'time_spend_company',\n",
              " 'Work_accident',\n",
              " 'promotion_last_5years']"
            ]
          },
          "metadata": {},
          "execution_count": 51
        }
      ],
      "source": [
        "num_feature"
      ]
    },
    {
      "cell_type": "markdown",
      "metadata": {
        "id": "hqYWYCMwJr4z"
      },
      "source": [
        "## One-Hot Encoding"
      ]
    },
    {
      "cell_type": "markdown",
      "source": [
        "since the categorical featuresin the data set are string values, it becomes necessary to use StringIndexer first to convert the string values into label indices (numeric values).\n",
        "Hence using StringIndexer"
      ],
      "metadata": {
        "id": "8GnHglTItoFQ"
      }
    },
    {
      "cell_type": "code",
      "execution_count": 52,
      "metadata": {
        "id": "SEHDyhrfKRpq",
        "colab": {
          "base_uri": "https://localhost:8080/"
        },
        "outputId": "3cf5d89e-d79e-4a81-f3ff-4f7e84a09564"
      },
      "outputs": [
        {
          "output_type": "stream",
          "name": "stdout",
          "text": [
            "+------------------+---------------+--------------+--------------------+------------------+-------------+----+---------------------+----------+------+----------------+\n",
            "|satisfaction_level|last_evaluation|number_project|average_montly_hours|time_spend_company|Work_accident|left|promotion_last_5years|department|salary|department_Label|\n",
            "+------------------+---------------+--------------+--------------------+------------------+-------------+----+---------------------+----------+------+----------------+\n",
            "|              0.38|           0.53|             2|                 157|                 3|            0| yes|                    0|     sales|   low|               0|\n",
            "|               0.8|           0.86|             5|                 262|                 6|            0| yes|                    0|     sales|medium|               0|\n",
            "+------------------+---------------+--------------+--------------------+------------------+-------------+----+---------------------+----------+------+----------------+\n",
            "only showing top 2 rows\n",
            "\n"
          ]
        }
      ],
      "source": [
        "indexer = StringIndexer(inputCol=\"department\", outputCol=\"department_Label\")\n",
        "temp_sdf = indexer.fit(df).transform(df)\n",
        "df1 = temp_sdf.withColumn(\"department_Label\", temp_sdf[\"department_Label\"].cast(\"integer\"))\n",
        "df1.show(2)"
      ]
    },
    {
      "cell_type": "code",
      "execution_count": 53,
      "metadata": {
        "id": "cm_60w14Ntuk",
        "colab": {
          "base_uri": "https://localhost:8080/"
        },
        "outputId": "3aa53d86-cc09-4817-ff2f-9b34e0511add"
      },
      "outputs": [
        {
          "output_type": "stream",
          "name": "stdout",
          "text": [
            "+------------------+---------------+--------------+--------------------+------------------+-------------+----+---------------------+----------+------+----------------+------------+\n",
            "|satisfaction_level|last_evaluation|number_project|average_montly_hours|time_spend_company|Work_accident|left|promotion_last_5years|department|salary|department_Label|salary_label|\n",
            "+------------------+---------------+--------------+--------------------+------------------+-------------+----+---------------------+----------+------+----------------+------------+\n",
            "|              0.38|           0.53|             2|                 157|                 3|            0| yes|                    0|     sales|   low|               0|           0|\n",
            "|               0.8|           0.86|             5|                 262|                 6|            0| yes|                    0|     sales|medium|               0|           1|\n",
            "+------------------+---------------+--------------+--------------------+------------------+-------------+----+---------------------+----------+------+----------------+------------+\n",
            "only showing top 2 rows\n",
            "\n"
          ]
        }
      ],
      "source": [
        "indexer = StringIndexer(inputCol=\"salary\", outputCol=\"salary_label\")\n",
        "temp_sdf = indexer.fit(df1).transform(df1)\n",
        "df1 = temp_sdf.withColumn(\"salary_label\", temp_sdf[\"salary_label\"].cast(\"integer\"))\n",
        "df1.show(2)"
      ]
    },
    {
      "cell_type": "markdown",
      "metadata": {
        "id": "4ixSAoxFOQiz"
      },
      "source": [
        "droping the \"department\" and \"Salary\" features"
      ]
    },
    {
      "cell_type": "code",
      "execution_count": 54,
      "metadata": {
        "id": "7kUke3eQOQS8"
      },
      "outputs": [],
      "source": [
        "df1 = df1.drop('department','salary')"
      ]
    },
    {
      "cell_type": "code",
      "execution_count": 55,
      "metadata": {
        "id": "ez_v0bSoOmv5",
        "colab": {
          "base_uri": "https://localhost:8080/"
        },
        "outputId": "c5014990-248f-46c2-d3ea-fa8c0e2996b6"
      },
      "outputs": [
        {
          "output_type": "stream",
          "name": "stdout",
          "text": [
            "+------------------+---------------+--------------+--------------------+------------------+-------------+----+---------------------+----------------+------------+\n",
            "|satisfaction_level|last_evaluation|number_project|average_montly_hours|time_spend_company|Work_accident|left|promotion_last_5years|department_Label|salary_label|\n",
            "+------------------+---------------+--------------+--------------------+------------------+-------------+----+---------------------+----------------+------------+\n",
            "|              0.38|           0.53|             2|                 157|                 3|            0| yes|                    0|               0|           0|\n",
            "|               0.8|           0.86|             5|                 262|                 6|            0| yes|                    0|               0|           1|\n",
            "+------------------+---------------+--------------+--------------------+------------------+-------------+----+---------------------+----------------+------------+\n",
            "only showing top 2 rows\n",
            "\n"
          ]
        }
      ],
      "source": [
        "df1.show(2)"
      ]
    },
    {
      "cell_type": "markdown",
      "metadata": {
        "id": "HB9_f7jeJoVA"
      },
      "source": [
        "Applying one-hot encoding "
      ]
    },
    {
      "cell_type": "code",
      "execution_count": 56,
      "metadata": {
        "id": "_4ss8XldIGQB"
      },
      "outputs": [],
      "source": [
        "encoder = OneHotEncoder(inputCols=[\"department_Label\",\"salary_label\"], outputCols=[\"department_OHE\", \"salary_OHE\"])\n",
        "df1 = encoder.fit(df1).transform(df1)"
      ]
    },
    {
      "cell_type": "code",
      "execution_count": 57,
      "metadata": {
        "id": "QVt3aJYGLfoa",
        "colab": {
          "base_uri": "https://localhost:8080/"
        },
        "outputId": "84578965-caf8-4509-cad5-76d4d3bf4031"
      },
      "outputs": [
        {
          "output_type": "stream",
          "name": "stdout",
          "text": [
            "+------------------+---------------+--------------+--------------------+------------------+-------------+----+---------------------+----------------+------------+--------------+-------------+\n",
            "|satisfaction_level|last_evaluation|number_project|average_montly_hours|time_spend_company|Work_accident|left|promotion_last_5years|department_Label|salary_label|department_OHE|   salary_OHE|\n",
            "+------------------+---------------+--------------+--------------------+------------------+-------------+----+---------------------+----------------+------------+--------------+-------------+\n",
            "|              0.38|           0.53|             2|                 157|                 3|            0| yes|                    0|               0|           0| (9,[0],[1.0])|(2,[0],[1.0])|\n",
            "|               0.8|           0.86|             5|                 262|                 6|            0| yes|                    0|               0|           1| (9,[0],[1.0])|(2,[1],[1.0])|\n",
            "|              0.11|           0.88|             7|                 272|                 4|            0| yes|                    0|               0|           1| (9,[0],[1.0])|(2,[1],[1.0])|\n",
            "|              0.72|           0.87|             5|                 223|                 5|            0| yes|                    0|               0|           0| (9,[0],[1.0])|(2,[0],[1.0])|\n",
            "|              0.37|           0.52|             2|                 159|                 3|            0| yes|                    0|               0|           0| (9,[0],[1.0])|(2,[0],[1.0])|\n",
            "+------------------+---------------+--------------+--------------------+------------------+-------------+----+---------------------+----------------+------------+--------------+-------------+\n",
            "only showing top 5 rows\n",
            "\n"
          ]
        }
      ],
      "source": [
        "df1.show(5)"
      ]
    },
    {
      "cell_type": "markdown",
      "metadata": {
        "id": "PuoNvP53Pl_-"
      },
      "source": [
        "Defining the Target variable"
      ]
    },
    {
      "cell_type": "code",
      "execution_count": 58,
      "metadata": {
        "id": "cTO4MqK5IGNA",
        "colab": {
          "base_uri": "https://localhost:8080/"
        },
        "outputId": "91bed05d-500b-4e18-d467-4fd4aa18a1e2"
      },
      "outputs": [
        {
          "output_type": "stream",
          "name": "stdout",
          "text": [
            "+------------------+---------------+--------------+--------------------+------------------+-------------+----+---------------------+----------------+------------+--------------+-------------+-----+\n",
            "|satisfaction_level|last_evaluation|number_project|average_montly_hours|time_spend_company|Work_accident|left|promotion_last_5years|department_Label|salary_label|department_OHE|   salary_OHE|label|\n",
            "+------------------+---------------+--------------+--------------------+------------------+-------------+----+---------------------+----------------+------------+--------------+-------------+-----+\n",
            "|              0.38|           0.53|             2|                 157|                 3|            0| yes|                    0|               0|           0| (9,[0],[1.0])|(2,[0],[1.0])|    1|\n",
            "|               0.8|           0.86|             5|                 262|                 6|            0| yes|                    0|               0|           1| (9,[0],[1.0])|(2,[1],[1.0])|    1|\n",
            "|              0.11|           0.88|             7|                 272|                 4|            0| yes|                    0|               0|           1| (9,[0],[1.0])|(2,[1],[1.0])|    1|\n",
            "|              0.72|           0.87|             5|                 223|                 5|            0| yes|                    0|               0|           0| (9,[0],[1.0])|(2,[0],[1.0])|    1|\n",
            "|              0.37|           0.52|             2|                 159|                 3|            0| yes|                    0|               0|           0| (9,[0],[1.0])|(2,[0],[1.0])|    1|\n",
            "+------------------+---------------+--------------+--------------------+------------------+-------------+----+---------------------+----------------+------------+--------------+-------------+-----+\n",
            "only showing top 5 rows\n",
            "\n"
          ]
        }
      ],
      "source": [
        "stringIndexer = StringIndexer(inputCol='left', outputCol='label')\n",
        "\n",
        "temp_sdf = stringIndexer.fit(df1).transform(df1)\n",
        "df1 = temp_sdf.withColumn(\"label\", temp_sdf[\"label\"].cast(\"integer\"))\n",
        "df1.show(5)"
      ]
    },
    {
      "cell_type": "markdown",
      "metadata": {
        "id": "8vpS2-lMPqHy"
      },
      "source": [
        "Defining the features"
      ]
    },
    {
      "cell_type": "code",
      "execution_count": 59,
      "metadata": {
        "id": "cH1iiR37IGKH",
        "colab": {
          "base_uri": "https://localhost:8080/"
        },
        "outputId": "6da2f0a5-afa9-4d65-c60d-f51d14365911"
      },
      "outputs": [
        {
          "output_type": "stream",
          "name": "stdout",
          "text": [
            "+------------------+---------------+--------------+--------------------+------------------+-------------+----+---------------------+----------------+------------+--------------+-------------+-----+--------------------+\n",
            "|satisfaction_level|last_evaluation|number_project|average_montly_hours|time_spend_company|Work_accident|left|promotion_last_5years|department_Label|salary_label|department_OHE|   salary_OHE|label|            FEATURES|\n",
            "+------------------+---------------+--------------+--------------------+------------------+-------------+----+---------------------+----------------+------------+--------------+-------------+-----+--------------------+\n",
            "|              0.38|           0.53|             2|                 157|                 3|            0| yes|                    0|               0|           0| (9,[0],[1.0])|(2,[0],[1.0])|    1|[0.38,0.53,2.0,15...|\n",
            "|               0.8|           0.86|             5|                 262|                 6|            0| yes|                    0|               0|           1| (9,[0],[1.0])|(2,[1],[1.0])|    1|[0.8,0.86,5.0,262...|\n",
            "|              0.11|           0.88|             7|                 272|                 4|            0| yes|                    0|               0|           1| (9,[0],[1.0])|(2,[1],[1.0])|    1|[0.11,0.88,7.0,27...|\n",
            "|              0.72|           0.87|             5|                 223|                 5|            0| yes|                    0|               0|           0| (9,[0],[1.0])|(2,[0],[1.0])|    1|[0.72,0.87,5.0,22...|\n",
            "|              0.37|           0.52|             2|                 159|                 3|            0| yes|                    0|               0|           0| (9,[0],[1.0])|(2,[0],[1.0])|    1|[0.37,0.52,2.0,15...|\n",
            "+------------------+---------------+--------------+--------------------+------------------+-------------+----+---------------------+----------------+------------+--------------+-------------+-----+--------------------+\n",
            "only showing top 5 rows\n",
            "\n"
          ]
        }
      ],
      "source": [
        "cols = ['satisfaction_level', 'last_evaluation', 'number_project', 'average_montly_hours', 'time_spend_company', 'Work_accident', 'promotion_last_5years', 'department_Label', 'salary_label']\n",
        "va = VectorAssembler(inputCols=cols, outputCol=\"FEATURES\")\n",
        "va_df = va.transform(df1)\n",
        "va_df.show(5)"
      ]
    },
    {
      "cell_type": "code",
      "execution_count": 60,
      "metadata": {
        "id": "BsHLHfX2IGHP",
        "colab": {
          "base_uri": "https://localhost:8080/"
        },
        "outputId": "93d91e0c-0e8b-42b7-fee9-4c43662f4af4"
      },
      "outputs": [
        {
          "output_type": "stream",
          "name": "stdout",
          "text": [
            "+--------------------+-----+\n",
            "|            FEATURES|label|\n",
            "+--------------------+-----+\n",
            "|[0.38,0.53,2.0,15...|    1|\n",
            "|[0.8,0.86,5.0,262...|    1|\n",
            "|[0.11,0.88,7.0,27...|    1|\n",
            "|[0.72,0.87,5.0,22...|    1|\n",
            "|[0.37,0.52,2.0,15...|    1|\n",
            "+--------------------+-----+\n",
            "only showing top 5 rows\n",
            "\n"
          ]
        }
      ],
      "source": [
        "final_df = va_df.select(\"FEATURES\", \"label\")\n",
        "final_df.show(5)"
      ]
    },
    {
      "cell_type": "markdown",
      "metadata": {
        "id": "IVLYhzfvibFC"
      },
      "source": [
        "Scaling the features using StandardScaler"
      ]
    },
    {
      "cell_type": "code",
      "execution_count": 61,
      "metadata": {
        "id": "JuATCjcJIGEL"
      },
      "outputs": [],
      "source": [
        "scaler = StandardScaler(inputCol=\"FEATURES\", outputCol=\"SCALED_FEATURES\")\n",
        "final_df = scaler.fit(final_df).transform(final_df)"
      ]
    },
    {
      "cell_type": "code",
      "execution_count": 62,
      "metadata": {
        "id": "o4Hv_Khqi9mp"
      },
      "outputs": [],
      "source": [
        "final_df = final_df.drop('FEATURES')"
      ]
    },
    {
      "cell_type": "markdown",
      "metadata": {
        "id": "kqOyX5sZimZq"
      },
      "source": [
        "### Split the dataset into test and train sets"
      ]
    },
    {
      "cell_type": "code",
      "execution_count": 63,
      "metadata": {
        "id": "bAtksDRGIGBY",
        "colab": {
          "base_uri": "https://localhost:8080/"
        },
        "outputId": "1a78e1ab-0f66-4aa5-dcce-a40e81901dc0"
      },
      "outputs": [
        {
          "output_type": "stream",
          "name": "stdout",
          "text": [
            "+-----+--------------------+\n",
            "|label|     SCALED_FEATURES|\n",
            "+-----+--------------------+\n",
            "|    0|[0.48264363017128...|\n",
            "|    0|[0.48264363017128...|\n",
            "|    0|[0.48264363017128...|\n",
            "|    0|[0.48264363017128...|\n",
            "|    0|[0.48264363017128...|\n",
            "|    0|[0.48264363017128...|\n",
            "|    0|[0.48264363017128...|\n",
            "|    0|[0.48264363017128...|\n",
            "|    0|[0.48264363017128...|\n",
            "|    0|[0.48264363017128...|\n",
            "+-----+--------------------+\n",
            "only showing top 10 rows\n",
            "\n",
            "+-----+--------------------+\n",
            "|label|     SCALED_FEATURES|\n",
            "+-----+--------------------+\n",
            "|    0|[0.48264363017128...|\n",
            "|    0|[0.48264363017128...|\n",
            "|    0|[0.48264363017128...|\n",
            "|    0|[0.48264363017128...|\n",
            "|    0|[0.48264363017128...|\n",
            "|    0|[0.48264363017128...|\n",
            "|    0|[0.48264363017128...|\n",
            "|    0|[0.48264363017128...|\n",
            "|    0|[0.48264363017128...|\n",
            "|    0|[0.52286393268555...|\n",
            "+-----+--------------------+\n",
            "only showing top 10 rows\n",
            "\n"
          ]
        }
      ],
      "source": [
        "train_df, test_df = final_df.randomSplit([0.7, 0.3], seed=17)\n",
        "train_df.show(10)\n",
        "test_df.show(10)\n"
      ]
    },
    {
      "cell_type": "code",
      "execution_count": 64,
      "metadata": {
        "id": "iLI_0I97IF-t",
        "colab": {
          "base_uri": "https://localhost:8080/"
        },
        "outputId": "25de9d60-0efd-48ab-d2af-86ffd4bc3146"
      },
      "outputs": [
        {
          "output_type": "stream",
          "name": "stdout",
          "text": [
            "+-----+-----+\n",
            "|label|count|\n",
            "+-----+-----+\n",
            "|    1| 2529|\n",
            "|    0| 7963|\n",
            "+-----+-----+\n",
            "\n"
          ]
        }
      ],
      "source": [
        "train_df.groupby('label').count().show()"
      ]
    },
    {
      "cell_type": "code",
      "execution_count": 65,
      "metadata": {
        "id": "TjVrgalgIF8N",
        "colab": {
          "base_uri": "https://localhost:8080/"
        },
        "outputId": "91fb8db1-1949-40c7-cb0a-ef64d88f3a3c"
      },
      "outputs": [
        {
          "output_type": "stream",
          "name": "stdout",
          "text": [
            "+-----+-----+\n",
            "|label|count|\n",
            "+-----+-----+\n",
            "|    1| 1042|\n",
            "|    0| 3465|\n",
            "+-----+-----+\n",
            "\n"
          ]
        }
      ],
      "source": [
        "test_df.groupby('label').count().show()"
      ]
    },
    {
      "cell_type": "markdown",
      "metadata": {
        "id": "dwq_9MGrj4GM"
      },
      "source": [
        "# Model building"
      ]
    },
    {
      "cell_type": "markdown",
      "metadata": {
        "id": "7_UU-7Ydj8_K"
      },
      "source": [
        "## Logistic Regression"
      ]
    },
    {
      "cell_type": "markdown",
      "metadata": {
        "id": "5lYdqcndlxa4"
      },
      "source": [
        "fitting the model"
      ]
    },
    {
      "cell_type": "code",
      "execution_count": 66,
      "metadata": {
        "id": "uHvGmmjlIF46"
      },
      "outputs": [],
      "source": [
        "log_model = LogisticRegression(featuresCol='SCALED_FEATURES', labelCol='label').fit(train_df)\n"
      ]
    },
    {
      "cell_type": "markdown",
      "metadata": {
        "id": "enPKVeyXlzVH"
      },
      "source": [
        "predicting using the test_df"
      ]
    },
    {
      "cell_type": "code",
      "execution_count": 67,
      "metadata": {
        "id": "0kvWcbODl60C",
        "colab": {
          "base_uri": "https://localhost:8080/"
        },
        "outputId": "05eb1db4-c871-4864-bb7c-d501740abf2f"
      },
      "outputs": [
        {
          "output_type": "stream",
          "name": "stdout",
          "text": [
            "+-----+--------------------+--------------------+--------------------+----------+\n",
            "|label|     SCALED_FEATURES|       rawPrediction|         probability|prediction|\n",
            "+-----+--------------------+--------------------+--------------------+----------+\n",
            "|    0|[0.48264363017128...|[-0.4866837077832...|[0.38067511193412...|       1.0|\n",
            "|    0|[0.48264363017128...|[-0.2410646323506...|[0.44002400552878...|       1.0|\n",
            "|    0|[0.48264363017128...|[-1.1231833403843...|[0.24542128412853...|       1.0|\n",
            "|    0|[0.48264363017128...|[0.56035206884842...|[0.63653399830551...|       0.0|\n",
            "|    0|[0.48264363017128...|[0.12467625061085...|[0.53112875055255...|       0.0|\n",
            "|    0|[0.48264363017128...|[0.12467625061085...|[0.53112875055255...|       0.0|\n",
            "|    0|[0.48264363017128...|[1.32380300335571...|[0.78981373133998...|       0.0|\n",
            "|    0|[0.48264363017128...|[-1.2495033405432...|[0.22278612479530...|       1.0|\n",
            "|    0|[0.48264363017128...|[-0.4945848094845...|[0.37881410002364...|       1.0|\n",
            "|    0|[0.52286393268555...|[-1.1309959283597...|[0.24397735268800...|       1.0|\n",
            "|    0|[0.52286393268555...|[0.15592806941739...|[0.53890322627397...|       0.0|\n",
            "|    0|[0.52286393268555...|[0.54130366059237...|[0.63211563026909...|       0.0|\n",
            "|    0|[0.52286393268555...|[-1.5959726278535...|[0.16854524857630...|       1.0|\n",
            "|    0|[0.52286393268555...|[-2.1466881807060...|[0.10464110589206...|       1.0|\n",
            "|    0|[0.52286393268555...|[-0.2172703623889...|[0.44589508370613...|       1.0|\n",
            "|    0|[0.52286393268555...|[-1.9957418305996...|[0.11965072793467...|       1.0|\n",
            "|    0|[0.52286393268555...|[-0.4421085197558...|[0.39123866604844...|       1.0|\n",
            "|    0|[0.52286393268555...|[-1.4282912799816...|[0.19336506222916...|       1.0|\n",
            "|    0|[0.52286393268555...|[-0.4124589174113...|[0.39832266569986...|       1.0|\n",
            "|    0|[0.52286393268555...|[-0.3317476806765...|[0.41781544638918...|       1.0|\n",
            "+-----+--------------------+--------------------+--------------------+----------+\n",
            "only showing top 20 rows\n",
            "\n"
          ]
        }
      ],
      "source": [
        "y_pred = log_model.transform(test_df)\n",
        "y_pred.show()"
      ]
    },
    {
      "cell_type": "code",
      "execution_count": 68,
      "metadata": {
        "id": "tj44uH_SIF2R",
        "colab": {
          "base_uri": "https://localhost:8080/"
        },
        "outputId": "68d5f52e-c8ac-485d-b634-c98492bd17e6"
      },
      "outputs": [
        {
          "output_type": "stream",
          "name": "stdout",
          "text": [
            "+-----+----------+\n",
            "|label|prediction|\n",
            "+-----+----------+\n",
            "|    0|       1.0|\n",
            "|    0|       1.0|\n",
            "|    0|       1.0|\n",
            "|    0|       0.0|\n",
            "|    0|       0.0|\n",
            "|    0|       0.0|\n",
            "|    0|       0.0|\n",
            "|    0|       1.0|\n",
            "|    0|       1.0|\n",
            "|    0|       1.0|\n",
            "|    0|       0.0|\n",
            "|    0|       0.0|\n",
            "|    0|       1.0|\n",
            "|    0|       1.0|\n",
            "|    0|       1.0|\n",
            "|    0|       1.0|\n",
            "|    0|       1.0|\n",
            "|    0|       1.0|\n",
            "|    0|       1.0|\n",
            "|    0|       1.0|\n",
            "+-----+----------+\n",
            "only showing top 20 rows\n",
            "\n"
          ]
        }
      ],
      "source": [
        "y_pred.select(\"label\", \"prediction\").show()"
      ]
    },
    {
      "cell_type": "markdown",
      "metadata": {
        "id": "_qrAFFhdlfnM"
      },
      "source": [
        "Checking the accuracy"
      ]
    },
    {
      "cell_type": "code",
      "execution_count": 69,
      "metadata": {
        "id": "29Ur0PbmIFzw",
        "colab": {
          "base_uri": "https://localhost:8080/"
        },
        "outputId": "793f17c9-b737-4d76-c90b-4fe4ce37bc8c"
      },
      "outputs": [
        {
          "output_type": "execute_result",
          "data": {
            "text/plain": [
              "0.8069669403150654"
            ]
          },
          "metadata": {},
          "execution_count": 69
        }
      ],
      "source": [
        "# accuracy\n",
        "y_pred.filter(y_pred.label == y_pred.prediction).count() / y_pred.count()"
      ]
    },
    {
      "cell_type": "markdown",
      "metadata": {
        "id": "NcdaSdKOnSf2"
      },
      "source": [
        "Checking the accuracy, precision, recall, F1 score and ROC AUC"
      ]
    },
    {
      "cell_type": "code",
      "execution_count": 70,
      "metadata": {
        "id": "F4UIW11wnNeH"
      },
      "outputs": [],
      "source": [
        "evaluator = BinaryClassificationEvaluator(labelCol=\"label\", rawPredictionCol=\"prediction\", metricName='areaUnderROC')\n",
        "evaluatorMulti = MulticlassClassificationEvaluator(labelCol=\"label\", predictionCol=\"prediction\")\n",
        "\n",
        "acc = evaluatorMulti.evaluate(y_pred, {evaluatorMulti.metricName: \"accuracy\"})\n",
        "precision = evaluatorMulti.evaluate(y_pred, {evaluatorMulti.metricName: \"precisionByLabel\"})\n",
        "recall = evaluatorMulti.evaluate(y_pred, {evaluatorMulti.metricName: \"recallByLabel\"})\n",
        "f1 = evaluatorMulti.evaluate(y_pred, {evaluatorMulti.metricName: \"f1\"})\n",
        "roc_auc = evaluator.evaluate(y_pred)"
      ]
    },
    {
      "cell_type": "code",
      "execution_count": 71,
      "metadata": {
        "id": "O41KhwS1nQD6",
        "colab": {
          "base_uri": "https://localhost:8080/"
        },
        "outputId": "0b4e410a-fae2-4223-8f89-6bb75caa242a"
      },
      "outputs": [
        {
          "output_type": "stream",
          "name": "stdout",
          "text": [
            "accuracy: 0.806967, precision: 0.839927, recall: 0.925253, f1: 0.792017, roc_auc: 0.669440\n"
          ]
        }
      ],
      "source": [
        "print(\"accuracy: %f, precision: %f, recall: %f, f1: %f, roc_auc: %f\" % (acc, precision, recall, f1, roc_auc))"
      ]
    }
  ],
  "metadata": {
    "colab": {
      "collapsed_sections": [],
      "name": "Predicting_Employee_Attrition.ipynb",
      "provenance": [],
      "authorship_tag": "ABX9TyPViTpgRoaiiTMeHnvwe14A",
      "include_colab_link": true
    },
    "kernelspec": {
      "display_name": "Python 3",
      "name": "python3"
    },
    "language_info": {
      "name": "python"
    }
  },
  "nbformat": 4,
  "nbformat_minor": 0
}